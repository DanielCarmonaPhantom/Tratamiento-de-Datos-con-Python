{
 "cells": [
  {
   "cell_type": "code",
   "execution_count": 1,
   "id": "a75f5a21",
   "metadata": {},
   "outputs": [],
   "source": [
    "import numpy as np"
   ]
  },
  {
   "cell_type": "code",
   "execution_count": 4,
   "id": "9646a26e",
   "metadata": {},
   "outputs": [
    {
     "name": "stdout",
     "output_type": "stream",
     "text": [
      "[[  1   2   3]\n",
      " [ 10  11  12]\n",
      " [ -5  -8 -14]]\n",
      "(3, 3)\n"
     ]
    }
   ],
   "source": [
    "m1 = np.array([[1,2,3],\n",
    "              [10,11,12],\n",
    "              [-5,-8,-14]])\n",
    "print(m1)\n",
    "print(m1.shape)"
   ]
  },
  {
   "cell_type": "code",
   "execution_count": 3,
   "id": "7f011dc8",
   "metadata": {},
   "outputs": [
    {
     "data": {
      "text/plain": [
       "array([[  200,   400,   600],\n",
       "       [ 2000,  2200,  2400],\n",
       "       [-1000, -1600, -2800]])"
      ]
     },
     "execution_count": 3,
     "metadata": {},
     "output_type": "execute_result"
    }
   ],
   "source": [
    "# Las operaciones aritmeticas se aplican a todos los elementos de la matriz\n",
    "m1*200"
   ]
  },
  {
   "cell_type": "code",
   "execution_count": 6,
   "id": "16ba841b",
   "metadata": {},
   "outputs": [
    {
     "data": {
      "text/plain": [
       "array([25, 26, 27])"
      ]
     },
     "execution_count": 6,
     "metadata": {},
     "output_type": "execute_result"
    }
   ],
   "source": [
    "#Aplicar la operacion a un elemento\n",
    "m1[1] + 15"
   ]
  },
  {
   "cell_type": "code",
   "execution_count": 7,
   "id": "0fc97bf0",
   "metadata": {},
   "outputs": [
    {
     "data": {
      "text/plain": [
       "array([[ 0.18348624,  0.36697248,  0.55045872],\n",
       "       [ 1.83486239,  2.01834862,  2.20183486],\n",
       "       [-0.91743119, -1.46788991, -2.56880734]])"
      ]
     },
     "execution_count": 7,
     "metadata": {},
     "output_type": "execute_result"
    }
   ],
   "source": [
    "m1 / 5.45"
   ]
  },
  {
   "cell_type": "code",
   "execution_count": 8,
   "id": "6976854f",
   "metadata": {},
   "outputs": [
    {
     "data": {
      "text/plain": [
       "array([[False,  True,  True],\n",
       "       [ True,  True,  True],\n",
       "       [False, False, False]])"
      ]
     },
     "execution_count": 8,
     "metadata": {},
     "output_type": "execute_result"
    }
   ],
   "source": [
    "#Usar operadores logicos por brodcasting\n",
    "m1 > 1"
   ]
  },
  {
   "cell_type": "code",
   "execution_count": 9,
   "id": "4eab7447",
   "metadata": {},
   "outputs": [
    {
     "name": "stdout",
     "output_type": "stream",
     "text": [
      "[1 2 3]\n",
      "(3,)\n",
      "[[2]\n",
      " [4]\n",
      " [6]]\n",
      "(3, 1)\n"
     ]
    }
   ],
   "source": [
    "m2 = np.array([1,2,3])\n",
    "m3 = np.array([[2],[4],[6]])\n",
    "\n",
    "print(m2)\n",
    "print(m2.shape)\n",
    "\n",
    "print(m3)\n",
    "print(m3.shape)"
   ]
  },
  {
   "cell_type": "code",
   "execution_count": 10,
   "id": "3f3839cd",
   "metadata": {},
   "outputs": [
    {
     "data": {
      "text/plain": [
       "array([[  1,   4,   9],\n",
       "       [ 10,  22,  36],\n",
       "       [ -5, -16, -42]])"
      ]
     },
     "execution_count": 10,
     "metadata": {},
     "output_type": "execute_result"
    }
   ],
   "source": [
    "m1*m2"
   ]
  },
  {
   "cell_type": "code",
   "execution_count": 11,
   "id": "153a10db",
   "metadata": {},
   "outputs": [
    {
     "data": {
      "text/plain": [
       "array([[ 0.5       ,  1.        ,  1.5       ],\n",
       "       [ 2.5       ,  2.75      ,  3.        ],\n",
       "       [-0.83333333, -1.33333333, -2.33333333]])"
      ]
     },
     "execution_count": 11,
     "metadata": {},
     "output_type": "execute_result"
    }
   ],
   "source": [
    "m1/m3"
   ]
  },
  {
   "cell_type": "code",
   "execution_count": 12,
   "id": "310dd94c",
   "metadata": {},
   "outputs": [
    {
     "data": {
      "text/plain": [
       "array([[21, 22, 23],\n",
       "       [30, 31, 32],\n",
       "       [15, 12,  6]])"
      ]
     },
     "execution_count": 12,
     "metadata": {},
     "output_type": "execute_result"
    }
   ],
   "source": [
    "m4 = m1 +20\n",
    "m4"
   ]
  },
  {
   "cell_type": "code",
   "execution_count": 13,
   "id": "d60d618f",
   "metadata": {},
   "outputs": [
    {
     "data": {
      "text/plain": [
       "array([[ 21,  44,  69],\n",
       "       [300, 341, 384],\n",
       "       [-75, -96, -84]])"
      ]
     },
     "execution_count": 13,
     "metadata": {},
     "output_type": "execute_result"
    }
   ],
   "source": [
    "m1 * m4"
   ]
  },
  {
   "cell_type": "code",
   "execution_count": 14,
   "id": "97f88b9f",
   "metadata": {},
   "outputs": [
    {
     "data": {
      "text/plain": [
       "array([[[0.34474509, 0.61443406],\n",
       "        [0.82470774, 0.2834516 ]],\n",
       "\n",
       "       [[0.03170772, 0.31873262],\n",
       "        [0.47417827, 0.8425288 ]]])"
      ]
     },
     "execution_count": 14,
     "metadata": {},
     "output_type": "execute_result"
    }
   ],
   "source": [
    "#Generar arreglos con valores aleatorios \n",
    "np.random.rand(2,2,2)"
   ]
  },
  {
   "cell_type": "code",
   "execution_count": 15,
   "id": "3d30e34d",
   "metadata": {},
   "outputs": [
    {
     "data": {
      "text/plain": [
       "array([[[228, 218],\n",
       "        [207, 152]],\n",
       "\n",
       "       [[187, 219],\n",
       "        [ 20, 244]]])"
      ]
     },
     "execution_count": 15,
     "metadata": {},
     "output_type": "execute_result"
    }
   ],
   "source": [
    "# randit genera valores enteros aleatorios entre un rango\n",
    "np.random.randint(1,255,(2,2,2))"
   ]
  },
  {
   "cell_type": "code",
   "execution_count": 16,
   "id": "631850cd",
   "metadata": {},
   "outputs": [
    {
     "data": {
      "text/plain": [
       "array([[[  4, 184,  52,  85],\n",
       "        [200, 110,  58, 146]],\n",
       "\n",
       "       [[155,  84, 226, 191],\n",
       "        [205, 114, 170,  34]],\n",
       "\n",
       "       [[ 78,  26, 150,  18],\n",
       "        [ 42, 146, 126,  24]]])"
      ]
     },
     "execution_count": 16,
     "metadata": {},
     "output_type": "execute_result"
    }
   ],
   "source": [
    "np.random.randint(0,256,(3,2,4))"
   ]
  },
  {
   "cell_type": "code",
   "execution_count": 17,
   "id": "bf412c70",
   "metadata": {},
   "outputs": [
    {
     "data": {
      "text/plain": [
       "array([[ 2.43  , -3.    , 48.9999, -5.61  ],\n",
       "       [    inf,    -inf,     inf,     inf],\n",
       "       [    nan, 17.78  , 12.    , 22.    ]])"
      ]
     },
     "execution_count": 17,
     "metadata": {},
     "output_type": "execute_result"
    }
   ],
   "source": [
    "numeros = np.array([[2.43, -3, 48.9999, -5.61],\n",
    "                   [np.inf, -np.inf, np.inf, np.inf],\n",
    "                   [np.nan, 17.78, 12, 22]])\n",
    "numeros"
   ]
  },
  {
   "cell_type": "code",
   "execution_count": 18,
   "id": "08d42fa6",
   "metadata": {},
   "outputs": [
    {
     "name": "stdout",
     "output_type": "stream",
     "text": [
      "[[ 2.43    3.     48.9999  5.61  ]\n",
      " [    inf     inf     inf     inf]\n",
      " [    nan 17.78   12.     22.    ]]\n",
      "[[  2.  -3.  48.  -6.]\n",
      " [ inf -inf  inf  inf]\n",
      " [ nan  17.  12.  22.]]\n",
      "[[  3.  -3.  49.  -5.]\n",
      " [ inf -inf  inf  inf]\n",
      " [ nan  18.  12.  22.]]\n",
      "[[  2.  -3.  49.  -6.]\n",
      " [ inf -inf  inf  inf]\n",
      " [ nan  18.  12.  22.]]\n"
     ]
    }
   ],
   "source": [
    "#Funciones de valor\n",
    "print(np.abs(numeros))\n",
    "print(np.floor(numeros))\n",
    "print(np.ceil(numeros))\n",
    "print(np.round(numeros))"
   ]
  },
  {
   "cell_type": "code",
   "execution_count": 22,
   "id": "945e4b56",
   "metadata": {},
   "outputs": [
    {
     "name": "stdout",
     "output_type": "stream",
     "text": [
      "[[ True  True  True  True]\n",
      " [False False False False]\n",
      " [False  True  True  True]]\n",
      "[[False False False False]\n",
      " [False False False False]\n",
      " [ True False False False]]\n",
      "[[ True  True  True  True]\n",
      " [ True  True  True  True]\n",
      " [ True  True  True  True]]\n",
      "False\n"
     ]
    }
   ],
   "source": [
    "#Funciones de la evaluacion de arreglos\n",
    "print(np.isfinite(numeros))\n",
    "print(np.isnan(numeros))\n",
    "print(np.isreal(numeros))\n",
    "print(np.isscalar(numeros))"
   ]
  },
  {
   "cell_type": "markdown",
   "id": "4f20484e",
   "metadata": {},
   "source": [
    "## Funciones estadísticas.\n",
    "\n",
    "* ```np.amax()```\n",
    "* ```np amin()```\n",
    "* ```np.argmax()```\n",
    "* ```np.argmin()```\n",
    "* ```np.average()```\n",
    "* ```np.correlate()```\n",
    "* ```np.corrcoef()```\n",
    "* ```np.count_nonzero()```\n",
    "* ```np.cov()```\n",
    "* ```np.cumprod()```\n",
    "* ```np.cumsum()```\n",
    "* ```np.histogram()```\n",
    "* ```np.histogram2d()```\n",
    "* ```np.histogram_bin_edges()```\n",
    "* ```np.histogramdd()```\n",
    "* ```np.max()```\n",
    "* ```np.mean()```\n",
    "* ```np.median()```\n",
    "* ```np.min()```\n",
    "* ```np.nanargmax()```\n",
    "* ```np.nanargmin()```\n",
    "* ```np.nancumprod()```\n",
    "* ```np.nancumsum()```\n",
    "* ```np.nanmax()```\n",
    "* ```np.nanmean()```\n",
    "* ```np.nanmedian()```\n",
    "* ```np.nanmin()```\n",
    "* ```np.nanpercentile()```\n",
    "* ```np.nanquantile()```\n",
    "* ```np.nanstd()```\n",
    "* ```np.nansum()```\n",
    "* ```np.nanvar()```\n",
    "* ```np.percentile()```\n",
    "* ```np.quantile()```\n",
    "* ```np.std()```\n",
    "* ```np.var()```\n"
   ]
  },
  {
   "cell_type": "code",
   "execution_count": 25,
   "id": "742fb567",
   "metadata": {},
   "outputs": [
    {
     "data": {
      "text/plain": [
       "array([[[161, 126,  32, 182],\n",
       "        [ 44,  48, 149, 200]],\n",
       "\n",
       "       [[209, 127, 168, 176],\n",
       "        [ 56,   2, 225, 108]],\n",
       "\n",
       "       [[ 91,  92,  60, 139],\n",
       "        [171,  17,  36, 193]]])"
      ]
     },
     "execution_count": 25,
     "metadata": {},
     "output_type": "execute_result"
    }
   ],
   "source": [
    "numeros = np.random.randint(0,256,(3,2,4))\n",
    "numeros"
   ]
  },
  {
   "cell_type": "markdown",
   "id": "e5d8aadd",
   "metadata": {},
   "source": [
    "## Funciones de valor\n",
    "* ```np.abs()```\n",
    "* ```np.around()```\n",
    "* ```np.ceil()```\n",
    "* ```np.exp()```\n",
    "* ```np.exp2()```\n",
    "* ```np.fabs()```\n",
    "* ```np.fix()```\n",
    "* ```np.floor()```\n",
    "* ```np.log()```\n",
    "* ```np.log10()```\n",
    "* ```np.log1p()```\n",
    "* ```np.log2()```\n",
    "* ```np.logaddexp()```\n",
    "* ```np.logaddexp2()```\n",
    "* ```np.round()```\n"
   ]
  },
  {
   "cell_type": "code",
   "execution_count": 28,
   "id": "993101fa",
   "metadata": {},
   "outputs": [
    {
     "name": "stdout",
     "output_type": "stream",
     "text": [
      "225\n",
      "117.16666666666667\n",
      "2\n",
      "126.5\n"
     ]
    }
   ],
   "source": [
    "print(np.max(numeros))\n",
    "print(np.mean(numeros))\n",
    "print(np.min(numeros))\n",
    "print(np.median(numeros))"
   ]
  },
  {
   "cell_type": "code",
   "execution_count": 27,
   "id": "d4332b50",
   "metadata": {},
   "outputs": [
    {
     "name": "stdout",
     "output_type": "stream",
     "text": [
      "225\n",
      "117.16666666666667\n",
      "2\n",
      "126.5\n"
     ]
    }
   ],
   "source": [
    "print(np.nanmax(numeros))\n",
    "print(np.nanmean(numeros))\n",
    "print(np.nanmin(numeros))\n",
    "print(np.nanmedian(numeros))"
   ]
  },
  {
   "cell_type": "code",
   "execution_count": 29,
   "id": "0ae08faf",
   "metadata": {},
   "outputs": [
    {
     "data": {
      "text/plain": [
       "(array([2, 3, 3, 1, 2, 2, 2, 4, 3, 2], dtype=int64),\n",
       " array([  2. ,  24.3,  46.6,  68.9,  91.2, 113.5, 135.8, 158.1, 180.4,\n",
       "        202.7, 225. ]))"
      ]
     },
     "execution_count": 29,
     "metadata": {},
     "output_type": "execute_result"
    }
   ],
   "source": [
    "np.histogram(numeros)"
   ]
  },
  {
   "cell_type": "code",
   "execution_count": 36,
   "id": "cb9a6d9c",
   "metadata": {},
   "outputs": [
    {
     "data": {
      "text/plain": [
       "array([[[161, 126,  32, 182],\n",
       "        [ 44,  48, 149, 200]],\n",
       "\n",
       "       [[209, 127, 168, 176],\n",
       "        [ 56,   2, 225, 108]],\n",
       "\n",
       "       [[ 91,  92,  60, 139],\n",
       "        [171,  17,  36, 193]]])"
      ]
     },
     "execution_count": 36,
     "metadata": {},
     "output_type": "execute_result"
    }
   ],
   "source": [
    "#Copia y ordenamiento\n",
    "numeros1 = numeros #Alias de un arreglo\n",
    "numeros1 = np.copy(numeros)#Copia de arreglo\n",
    "numeros"
   ]
  },
  {
   "cell_type": "code",
   "execution_count": 32,
   "id": "d5959114",
   "metadata": {},
   "outputs": [
    {
     "data": {
      "text/plain": [
       "array([[[ 32, 126, 161, 182],\n",
       "        [ 44,  48, 149, 200]],\n",
       "\n",
       "       [[127, 168, 176, 209],\n",
       "        [  2,  56, 108, 225]],\n",
       "\n",
       "       [[ 60,  91,  92, 139],\n",
       "        [ 17,  36, 171, 193]]])"
      ]
     },
     "execution_count": 32,
     "metadata": {},
     "output_type": "execute_result"
    }
   ],
   "source": [
    "numeros1.sort()\n",
    "numeros1"
   ]
  },
  {
   "cell_type": "code",
   "execution_count": 40,
   "id": "96d8e8b8",
   "metadata": {},
   "outputs": [
    {
     "data": {
      "text/plain": [
       "array([[[ 32, 126, 161, 182],\n",
       "        [ 44,  48, 149, 200]],\n",
       "\n",
       "       [[127, 168, 176, 209],\n",
       "        [  2,  56, 108, 225]],\n",
       "\n",
       "       [[ 60,  91,  92, 139],\n",
       "        [ 17,  36, 171, 193]]])"
      ]
     },
     "execution_count": 40,
     "metadata": {},
     "output_type": "execute_result"
    }
   ],
   "source": [
    "numeros1.sort(axis=2)\n",
    "numeros1"
   ]
  },
  {
   "cell_type": "code",
   "execution_count": 38,
   "id": "66ab5cb2",
   "metadata": {},
   "outputs": [
    {
     "name": "stdout",
     "output_type": "stream",
     "text": [
      "[1 2 3]\n",
      "[[1 2 3]\n",
      " [4 5 6]]\n",
      "[[2 4 6]\n",
      " [5 7 9]]\n"
     ]
    }
   ],
   "source": [
    "a = np.array([1, 2, 3])\n",
    "b = np.array([(1, 2, 3), (4, 5, 6)])\n",
    "\n",
    "print(a)\n",
    "print(b)\n",
    "\n",
    "print(np.add(a,b))"
   ]
  },
  {
   "cell_type": "code",
   "execution_count": 39,
   "id": "78a3a4e8",
   "metadata": {},
   "outputs": [
    {
     "data": {
      "text/plain": [
       "21"
      ]
     },
     "execution_count": 39,
     "metadata": {},
     "output_type": "execute_result"
    }
   ],
   "source": [
    "#Suma total de los elementos\n",
    "b.sum()"
   ]
  },
  {
   "cell_type": "code",
   "execution_count": 41,
   "id": "cdf13093",
   "metadata": {},
   "outputs": [
    {
     "data": {
      "text/plain": [
       "array([[1.        , 1.41421356, 1.73205081],\n",
       "       [2.        , 2.23606798, 2.44948974]])"
      ]
     },
     "execution_count": 41,
     "metadata": {},
     "output_type": "execute_result"
    }
   ],
   "source": [
    "# Raiz cuadrada\n",
    "np.sqrt(b)"
   ]
  },
  {
   "cell_type": "code",
   "execution_count": 42,
   "id": "167f08f5",
   "metadata": {},
   "outputs": [
    {
     "data": {
      "text/plain": [
       "array([[ True,  True,  True],\n",
       "       [ True, False, False]])"
      ]
     },
     "execution_count": 42,
     "metadata": {},
     "output_type": "execute_result"
    }
   ],
   "source": [
    "# Crear un arreglo con los resultados de la comparacion logica\n",
    "c=b <=4\n",
    "c"
   ]
  },
  {
   "cell_type": "code",
   "execution_count": null,
   "id": "d4712533",
   "metadata": {},
   "outputs": [],
   "source": []
  }
 ],
 "metadata": {
  "kernelspec": {
   "display_name": "Python 3 (ipykernel)",
   "language": "python",
   "name": "python3"
  },
  "language_info": {
   "codemirror_mode": {
    "name": "ipython",
    "version": 3
   },
   "file_extension": ".py",
   "mimetype": "text/x-python",
   "name": "python",
   "nbconvert_exporter": "python",
   "pygments_lexer": "ipython3",
   "version": "3.9.12"
  }
 },
 "nbformat": 4,
 "nbformat_minor": 5
}
