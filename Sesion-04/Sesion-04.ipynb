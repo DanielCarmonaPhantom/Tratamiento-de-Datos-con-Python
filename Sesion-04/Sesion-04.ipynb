{
 "cells": [
  {
   "cell_type": "code",
   "execution_count": 9,
   "id": "1f2c5cfe",
   "metadata": {},
   "outputs": [],
   "source": [
    "import numpy as np\n",
    "import pandas as pd\n",
    "import datetime as dt"
   ]
  },
  {
   "cell_type": "markdown",
   "id": "eeeda0b7",
   "metadata": {},
   "source": [
    "* ```object``` el cual representa a una cadena de caracteres.\n",
    "* ```int64``` es el tipo para números enteros. \n",
    "* ```float64``` es el tipo para números de punto flotante.\n",
    "* ```bool``` es el tipo para valores booleanos.\n",
    "* ```datetime64``` es el tipo usado para gestionar fechas y horas.\n",
    "* ```timedelta``` es el tipo de diferencias de tiempo. \n",
    "* ```category``` es un tipo de dato que contiene una colección finita de posibles valores\n"
   ]
  },
  {
   "cell_type": "code",
   "execution_count": 11,
   "id": "015050a1",
   "metadata": {},
   "outputs": [
    {
     "data": {
      "text/html": [
       "<div>\n",
       "<style scoped>\n",
       "    .dataframe tbody tr th:only-of-type {\n",
       "        vertical-align: middle;\n",
       "    }\n",
       "\n",
       "    .dataframe tbody tr th {\n",
       "        vertical-align: top;\n",
       "    }\n",
       "\n",
       "    .dataframe thead th {\n",
       "        text-align: right;\n",
       "    }\n",
       "</style>\n",
       "<table border=\"1\" class=\"dataframe\">\n",
       "  <thead>\n",
       "    <tr style=\"text-align: right;\">\n",
       "      <th></th>\n",
       "      <th>nombres</th>\n",
       "      <th>fechas</th>\n",
       "      <th>saldo</th>\n",
       "      <th>al corriente</th>\n",
       "    </tr>\n",
       "  </thead>\n",
       "  <tbody>\n",
       "    <tr>\n",
       "      <th>0</th>\n",
       "      <td>Carlos Ayala</td>\n",
       "      <td>1995-12-21</td>\n",
       "      <td>3600.0</td>\n",
       "      <td>True</td>\n",
       "    </tr>\n",
       "    <tr>\n",
       "      <th>1</th>\n",
       "      <td>Martha Sánchez</td>\n",
       "      <td>1989-01-13</td>\n",
       "      <td>7452.0</td>\n",
       "      <td>True</td>\n",
       "    </tr>\n",
       "    <tr>\n",
       "      <th>2</th>\n",
       "      <td>Jimena Ríos</td>\n",
       "      <td>1992-09-14</td>\n",
       "      <td>NaN</td>\n",
       "      <td>False</td>\n",
       "    </tr>\n",
       "    <tr>\n",
       "      <th>3</th>\n",
       "      <td>Raul Quiroz</td>\n",
       "      <td>1993-07-08</td>\n",
       "      <td>12143.5</td>\n",
       "      <td>True</td>\n",
       "    </tr>\n",
       "  </tbody>\n",
       "</table>\n",
       "</div>"
      ],
      "text/plain": [
       "          nombres     fechas    saldo  al corriente\n",
       "0    Carlos Ayala 1995-12-21   3600.0          True\n",
       "1  Martha Sánchez 1989-01-13   7452.0          True\n",
       "2     Jimena Ríos 1992-09-14      NaN         False\n",
       "3     Raul Quiroz 1993-07-08  12143.5          True"
      ]
     },
     "execution_count": 11,
     "metadata": {},
     "output_type": "execute_result"
    }
   ],
   "source": [
    "datos = pd.DataFrame({'nombres':('Carlos Ayala',\n",
    "                                 'Martha Sánchez'\n",
    "                                 , 'Jimena Ríos',\n",
    "                                 'Raul Quiroz'),\n",
    "            'fechas':(dt.datetime(1995,12,21), \n",
    "                      dt.datetime(1989,1,13), \n",
    "                      dt.datetime(1992,9,14), \n",
    "                      dt.datetime(1993,7,8)),\n",
    "            'saldo': (3600, \n",
    "                      7452, \n",
    "                      np.NaN, \n",
    "                      12143.5),\n",
    "            'al corriente':(True, \n",
    "                            True, \n",
    "                            False, \n",
    "                            True)})\n",
    "\n",
    "datos\n"
   ]
  },
  {
   "cell_type": "code",
   "execution_count": 12,
   "id": "519d4816",
   "metadata": {},
   "outputs": [
    {
     "data": {
      "text/plain": [
       "nombres                 object\n",
       "fechas          datetime64[ns]\n",
       "saldo                  float64\n",
       "al corriente              bool\n",
       "dtype: object"
      ]
     },
     "execution_count": 12,
     "metadata": {},
     "output_type": "execute_result"
    }
   ],
   "source": [
    "datos.dtypes"
   ]
  },
  {
   "cell_type": "code",
   "execution_count": 13,
   "id": "e43435c6",
   "metadata": {},
   "outputs": [
    {
     "name": "stderr",
     "output_type": "stream",
     "text": [
      "C:\\Users\\Mario Alberto\\AppData\\Local\\Temp\\ipykernel_15540\\1331806440.py:5: FutureWarning: The pandas.datetime class is deprecated and will be removed from pandas in a future version. Import from datetime module instead.\n",
      "  'fechas':(pd.datetime(1995,12,21),\n",
      "C:\\Users\\Mario Alberto\\AppData\\Local\\Temp\\ipykernel_15540\\1331806440.py:6: FutureWarning: The pandas.datetime class is deprecated and will be removed from pandas in a future version. Import from datetime module instead.\n",
      "  pd.datetime(1989,1,13),\n",
      "C:\\Users\\Mario Alberto\\AppData\\Local\\Temp\\ipykernel_15540\\1331806440.py:7: FutureWarning: The pandas.datetime class is deprecated and will be removed from pandas in a future version. Import from datetime module instead.\n",
      "  pd.datetime(1992,9,14),\n",
      "C:\\Users\\Mario Alberto\\AppData\\Local\\Temp\\ipykernel_15540\\1331806440.py:8: FutureWarning: The pandas.datetime class is deprecated and will be removed from pandas in a future version. Import from datetime module instead.\n",
      "  pd.datetime(1993,7,8)),\n"
     ]
    },
    {
     "data": {
      "text/html": [
       "<div>\n",
       "<style scoped>\n",
       "    .dataframe tbody tr th:only-of-type {\n",
       "        vertical-align: middle;\n",
       "    }\n",
       "\n",
       "    .dataframe tbody tr th {\n",
       "        vertical-align: top;\n",
       "    }\n",
       "\n",
       "    .dataframe thead th {\n",
       "        text-align: right;\n",
       "    }\n",
       "</style>\n",
       "<table border=\"1\" class=\"dataframe\">\n",
       "  <thead>\n",
       "    <tr style=\"text-align: right;\">\n",
       "      <th></th>\n",
       "      <th>nombres</th>\n",
       "      <th>fechas</th>\n",
       "      <th>saldo</th>\n",
       "      <th>al corriente</th>\n",
       "    </tr>\n",
       "  </thead>\n",
       "  <tbody>\n",
       "    <tr>\n",
       "      <th>0</th>\n",
       "      <td>Carlos Ayala</td>\n",
       "      <td>1995-12-21</td>\n",
       "      <td>3600.0</td>\n",
       "      <td>True</td>\n",
       "    </tr>\n",
       "    <tr>\n",
       "      <th>1</th>\n",
       "      <td>Martha Sánchez</td>\n",
       "      <td>1989-01-13</td>\n",
       "      <td>7452.0</td>\n",
       "      <td>True</td>\n",
       "    </tr>\n",
       "    <tr>\n",
       "      <th>2</th>\n",
       "      <td>Jimena Ríos</td>\n",
       "      <td>1992-09-14</td>\n",
       "      <td>NaN</td>\n",
       "      <td>False</td>\n",
       "    </tr>\n",
       "    <tr>\n",
       "      <th>3</th>\n",
       "      <td>Raul Quiroz</td>\n",
       "      <td>1993-07-08</td>\n",
       "      <td>12143.5</td>\n",
       "      <td>True</td>\n",
       "    </tr>\n",
       "  </tbody>\n",
       "</table>\n",
       "</div>"
      ],
      "text/plain": [
       "          nombres     fechas    saldo  al corriente\n",
       "0    Carlos Ayala 1995-12-21   3600.0          True\n",
       "1  Martha Sánchez 1989-01-13   7452.0          True\n",
       "2     Jimena Ríos 1992-09-14      NaN         False\n",
       "3     Raul Quiroz 1993-07-08  12143.5          True"
      ]
     },
     "execution_count": 13,
     "metadata": {},
     "output_type": "execute_result"
    }
   ],
   "source": [
    "datos2 = pd.DataFrame({'nombres':('Carlos Ayala',\n",
    "                                 'Martha Sánchez'\n",
    "                                 , 'Jimena Ríos',\n",
    "                                 'Raul Quiroz'),\n",
    "            'fechas':(pd.datetime(1995,12,21), \n",
    "                      pd.datetime(1989,1,13), \n",
    "                      pd.datetime(1992,9,14), \n",
    "                      pd.datetime(1993,7,8)),\n",
    "            'saldo': (3600, \n",
    "                      7452, \n",
    "                      np.NaN, \n",
    "                      12143.5),\n",
    "            'al corriente':(True, \n",
    "                            True, \n",
    "                            False, \n",
    "                            True)})\n",
    "\n",
    "datos2"
   ]
  },
  {
   "cell_type": "code",
   "execution_count": 15,
   "id": "70659a2c",
   "metadata": {},
   "outputs": [
    {
     "data": {
      "text/plain": [
       "nombres                 object\n",
       "fechas          datetime64[ns]\n",
       "saldo                  float64\n",
       "al corriente              bool\n",
       "dtype: object"
      ]
     },
     "execution_count": 15,
     "metadata": {},
     "output_type": "execute_result"
    }
   ],
   "source": [
    "datos2.dtypes"
   ]
  },
  {
   "cell_type": "code",
   "execution_count": 19,
   "id": "fb71fe6f",
   "metadata": {},
   "outputs": [
    {
     "data": {
      "text/plain": [
       "nombres         object\n",
       "fechas          object\n",
       "saldo           object\n",
       "al corriente    object\n",
       "dtype: object"
      ]
     },
     "execution_count": 19,
     "metadata": {},
     "output_type": "execute_result"
    }
   ],
   "source": [
    "#Convertir un objeto de pandas a un tipo especifico\n",
    "datos2.astype(str)\n",
    "datos2.astype(str).dtypes"
   ]
  },
  {
   "cell_type": "code",
   "execution_count": 21,
   "id": "20eac9c7",
   "metadata": {},
   "outputs": [
    {
     "data": {
      "text/plain": [
       "nombres         object\n",
       "fechas          object\n",
       "saldo           object\n",
       "al corriente    object\n",
       "dtype: object"
      ]
     },
     "execution_count": 21,
     "metadata": {},
     "output_type": "execute_result"
    }
   ],
   "source": [
    "datos3 = datos2.astype(str)\n",
    "datos3.dtypes"
   ]
  },
  {
   "cell_type": "code",
   "execution_count": 22,
   "id": "22701d9b",
   "metadata": {},
   "outputs": [
    {
     "data": {
      "text/html": [
       "<div>\n",
       "<style scoped>\n",
       "    .dataframe tbody tr th:only-of-type {\n",
       "        vertical-align: middle;\n",
       "    }\n",
       "\n",
       "    .dataframe tbody tr th {\n",
       "        vertical-align: top;\n",
       "    }\n",
       "\n",
       "    .dataframe thead th {\n",
       "        text-align: right;\n",
       "    }\n",
       "</style>\n",
       "<table border=\"1\" class=\"dataframe\">\n",
       "  <thead>\n",
       "    <tr style=\"text-align: right;\">\n",
       "      <th></th>\n",
       "      <th>nombres</th>\n",
       "      <th>fechas</th>\n",
       "      <th>saldo</th>\n",
       "      <th>al corriente</th>\n",
       "    </tr>\n",
       "  </thead>\n",
       "  <tbody>\n",
       "    <tr>\n",
       "      <th>0</th>\n",
       "      <td>Carlos Ayala</td>\n",
       "      <td>1995-12-21</td>\n",
       "      <td>3600.0</td>\n",
       "      <td>True</td>\n",
       "    </tr>\n",
       "    <tr>\n",
       "      <th>1</th>\n",
       "      <td>Martha Sánchez</td>\n",
       "      <td>1989-01-13</td>\n",
       "      <td>7452.0</td>\n",
       "      <td>True</td>\n",
       "    </tr>\n",
       "    <tr>\n",
       "      <th>2</th>\n",
       "      <td>Jimena Ríos</td>\n",
       "      <td>1992-09-14</td>\n",
       "      <td>nan</td>\n",
       "      <td>False</td>\n",
       "    </tr>\n",
       "    <tr>\n",
       "      <th>3</th>\n",
       "      <td>Raul Quiroz</td>\n",
       "      <td>1993-07-08</td>\n",
       "      <td>12143.5</td>\n",
       "      <td>True</td>\n",
       "    </tr>\n",
       "  </tbody>\n",
       "</table>\n",
       "</div>"
      ],
      "text/plain": [
       "          nombres      fechas    saldo al corriente\n",
       "0    Carlos Ayala  1995-12-21   3600.0         True\n",
       "1  Martha Sánchez  1989-01-13   7452.0         True\n",
       "2     Jimena Ríos  1992-09-14      nan        False\n",
       "3     Raul Quiroz  1993-07-08  12143.5         True"
      ]
     },
     "execution_count": 22,
     "metadata": {},
     "output_type": "execute_result"
    }
   ],
   "source": [
    "datos3"
   ]
  },
  {
   "cell_type": "code",
   "execution_count": 23,
   "id": "a24d03d8",
   "metadata": {},
   "outputs": [
    {
     "data": {
      "text/plain": [
       "0     3600.0\n",
       "1     7452.0\n",
       "2        NaN\n",
       "3    12143.5\n",
       "Name: saldo, dtype: float64"
      ]
     },
     "execution_count": 23,
     "metadata": {},
     "output_type": "execute_result"
    }
   ],
   "source": [
    "datos3['saldo'].astype('float64')"
   ]
  },
  {
   "cell_type": "code",
   "execution_count": 25,
   "id": "10b0775c",
   "metadata": {},
   "outputs": [
    {
     "data": {
      "text/html": [
       "<div>\n",
       "<style scoped>\n",
       "    .dataframe tbody tr th:only-of-type {\n",
       "        vertical-align: middle;\n",
       "    }\n",
       "\n",
       "    .dataframe tbody tr th {\n",
       "        vertical-align: top;\n",
       "    }\n",
       "\n",
       "    .dataframe thead th {\n",
       "        text-align: right;\n",
       "    }\n",
       "</style>\n",
       "<table border=\"1\" class=\"dataframe\">\n",
       "  <thead>\n",
       "    <tr style=\"text-align: right;\">\n",
       "      <th></th>\n",
       "      <th>year</th>\n",
       "      <th>month</th>\n",
       "      <th>day</th>\n",
       "      <th>hour</th>\n",
       "      <th>minutes</th>\n",
       "      <th>seconds</th>\n",
       "    </tr>\n",
       "  </thead>\n",
       "  <tbody>\n",
       "    <tr>\n",
       "      <th>0</th>\n",
       "      <td>1997</td>\n",
       "      <td>1</td>\n",
       "      <td>14</td>\n",
       "      <td>17</td>\n",
       "      <td>45</td>\n",
       "      <td>11.18030</td>\n",
       "    </tr>\n",
       "    <tr>\n",
       "      <th>1</th>\n",
       "      <td>1982</td>\n",
       "      <td>12</td>\n",
       "      <td>5</td>\n",
       "      <td>0</td>\n",
       "      <td>39</td>\n",
       "      <td>23.74583</td>\n",
       "    </tr>\n",
       "    <tr>\n",
       "      <th>2</th>\n",
       "      <td>1985</td>\n",
       "      <td>3</td>\n",
       "      <td>21</td>\n",
       "      <td>4</td>\n",
       "      <td>28</td>\n",
       "      <td>3.87980</td>\n",
       "    </tr>\n",
       "  </tbody>\n",
       "</table>\n",
       "</div>"
      ],
      "text/plain": [
       "   year  month  day  hour  minutes   seconds\n",
       "0  1997      1   14    17       45  11.18030\n",
       "1  1982     12    5     0       39  23.74583\n",
       "2  1985      3   21     4       28   3.87980"
      ]
     },
     "execution_count": 25,
     "metadata": {},
     "output_type": "execute_result"
    }
   ],
   "source": [
    "#pd.to_datetime()\n",
    "#Genera una comlumna tipo datetime64 a apartir de un DF con columnas con encabezados\n",
    "fechas = pd.DataFrame({'year': [1997, 1982, 1985],\n",
    "                       'month': [1, 12, 3],\n",
    "                       'day': [14, 5, 21],\n",
    "                       'hour':[17, 0, 4],\n",
    "                       'minutes':[45, 39, 28],\n",
    "                      'seconds':[11.1803, 23.74583, 3.8798]})\n",
    "fechas"
   ]
  },
  {
   "cell_type": "code",
   "execution_count": 27,
   "id": "1849e145",
   "metadata": {},
   "outputs": [
    {
     "data": {
      "text/plain": [
       "0   1997-01-14 17:45:11.180300\n",
       "1   1982-12-05 00:39:23.745830\n",
       "2   1985-03-21 04:28:03.879800\n",
       "dtype: datetime64[ns]"
      ]
     },
     "execution_count": 27,
     "metadata": {},
     "output_type": "execute_result"
    }
   ],
   "source": [
    "pd_fechas = pd.to_datetime(fechas)\n",
    "pd_fechas"
   ]
  },
  {
   "cell_type": "code",
   "execution_count": 28,
   "id": "395578fe",
   "metadata": {},
   "outputs": [
    {
     "name": "stdout",
     "output_type": "stream",
     "text": [
      "datetime64[ns]\n",
      "<class 'pandas.core.series.Series'>\n"
     ]
    }
   ],
   "source": [
    "print(pd_fechas.dtypes)\n",
    "print(type(pd_fechas))"
   ]
  },
  {
   "cell_type": "code",
   "execution_count": 29,
   "id": "32671b2b",
   "metadata": {},
   "outputs": [
    {
     "data": {
      "text/plain": [
       "0    853263911180300000\n",
       "1    407896763745830000\n",
       "2    480227283879800000\n",
       "dtype: int64"
      ]
     },
     "execution_count": 29,
     "metadata": {},
     "output_type": "execute_result"
    }
   ],
   "source": [
    "pd.to_numeric(pd_fechas)"
   ]
  },
  {
   "cell_type": "code",
   "execution_count": 30,
   "id": "483d871c",
   "metadata": {},
   "outputs": [
    {
     "data": {
      "text/plain": [
       "0   1997-01-14 17:45:11.180300\n",
       "1   1982-12-05 00:39:23.745830\n",
       "2   1985-03-21 04:28:03.879800\n",
       "dtype: datetime64[ns]"
      ]
     },
     "execution_count": 30,
     "metadata": {},
     "output_type": "execute_result"
    }
   ],
   "source": [
    "pd.to_datetime(pd.to_numeric(pd_fechas))"
   ]
  },
  {
   "cell_type": "code",
   "execution_count": 34,
   "id": "657fec6f",
   "metadata": {},
   "outputs": [
    {
     "data": {
      "text/plain": [
       "array([[8532639111803, 8532639111808],\n",
       "       [8532639111813, 8532639111818],\n",
       "       [8532639111823, 8532639111828],\n",
       "       [8532639111833, 8532639111838],\n",
       "       [8532639111843, 8532639111848],\n",
       "       [8532639111853, 8532639111858],\n",
       "       [8532639111863, 8532639111868],\n",
       "       [8532639111873, 8532639111878],\n",
       "       [8532639111883, 8532639111888],\n",
       "       [8532639111893, 8532639111898]], dtype=int64)"
      ]
     },
     "execution_count": 34,
     "metadata": {},
     "output_type": "execute_result"
    }
   ],
   "source": [
    "np.arange(8532639111803, 8532639111903,5).reshape(10,2)"
   ]
  },
  {
   "cell_type": "code",
   "execution_count": 35,
   "id": "179964e5",
   "metadata": {},
   "outputs": [
    {
     "data": {
      "text/plain": [
       "array([8532639111803, 8532639111808, 8532639111813, 8532639111818,\n",
       "       8532639111823, 8532639111828, 8532639111833, 8532639111838,\n",
       "       8532639111843, 8532639111848, 8532639111853, 8532639111858,\n",
       "       8532639111863, 8532639111868, 8532639111873, 8532639111878,\n",
       "       8532639111883, 8532639111888, 8532639111893, 8532639111898],\n",
       "      dtype=int64)"
      ]
     },
     "execution_count": 35,
     "metadata": {},
     "output_type": "execute_result"
    }
   ],
   "source": [
    "np.arange(8532639111803, 8532639111903,5)"
   ]
  },
  {
   "cell_type": "code",
   "execution_count": 33,
   "id": "c1392fc2",
   "metadata": {},
   "outputs": [
    {
     "data": {
      "text/html": [
       "<div>\n",
       "<style scoped>\n",
       "    .dataframe tbody tr th:only-of-type {\n",
       "        vertical-align: middle;\n",
       "    }\n",
       "\n",
       "    .dataframe tbody tr th {\n",
       "        vertical-align: top;\n",
       "    }\n",
       "\n",
       "    .dataframe thead th {\n",
       "        text-align: right;\n",
       "    }\n",
       "</style>\n",
       "<table border=\"1\" class=\"dataframe\">\n",
       "  <thead>\n",
       "    <tr style=\"text-align: right;\">\n",
       "      <th></th>\n",
       "      <th>0</th>\n",
       "      <th>1</th>\n",
       "    </tr>\n",
       "  </thead>\n",
       "  <tbody>\n",
       "    <tr>\n",
       "      <th>0</th>\n",
       "      <td>8532639111803</td>\n",
       "      <td>8532639111808</td>\n",
       "    </tr>\n",
       "    <tr>\n",
       "      <th>1</th>\n",
       "      <td>8532639111813</td>\n",
       "      <td>8532639111818</td>\n",
       "    </tr>\n",
       "    <tr>\n",
       "      <th>2</th>\n",
       "      <td>8532639111823</td>\n",
       "      <td>8532639111828</td>\n",
       "    </tr>\n",
       "    <tr>\n",
       "      <th>3</th>\n",
       "      <td>8532639111833</td>\n",
       "      <td>8532639111838</td>\n",
       "    </tr>\n",
       "    <tr>\n",
       "      <th>4</th>\n",
       "      <td>8532639111843</td>\n",
       "      <td>8532639111848</td>\n",
       "    </tr>\n",
       "    <tr>\n",
       "      <th>5</th>\n",
       "      <td>8532639111853</td>\n",
       "      <td>8532639111858</td>\n",
       "    </tr>\n",
       "    <tr>\n",
       "      <th>6</th>\n",
       "      <td>8532639111863</td>\n",
       "      <td>8532639111868</td>\n",
       "    </tr>\n",
       "    <tr>\n",
       "      <th>7</th>\n",
       "      <td>8532639111873</td>\n",
       "      <td>8532639111878</td>\n",
       "    </tr>\n",
       "    <tr>\n",
       "      <th>8</th>\n",
       "      <td>8532639111883</td>\n",
       "      <td>8532639111888</td>\n",
       "    </tr>\n",
       "    <tr>\n",
       "      <th>9</th>\n",
       "      <td>8532639111893</td>\n",
       "      <td>8532639111898</td>\n",
       "    </tr>\n",
       "  </tbody>\n",
       "</table>\n",
       "</div>"
      ],
      "text/plain": [
       "               0              1\n",
       "0  8532639111803  8532639111808\n",
       "1  8532639111813  8532639111818\n",
       "2  8532639111823  8532639111828\n",
       "3  8532639111833  8532639111838\n",
       "4  8532639111843  8532639111848\n",
       "5  8532639111853  8532639111858\n",
       "6  8532639111863  8532639111868\n",
       "7  8532639111873  8532639111878\n",
       "8  8532639111883  8532639111888\n",
       "9  8532639111893  8532639111898"
      ]
     },
     "execution_count": 33,
     "metadata": {},
     "output_type": "execute_result"
    }
   ],
   "source": [
    "datos = pd.DataFrame(np.arange(8532639111803, 8532639111903,5).reshape(10,2))\n",
    "datos"
   ]
  },
  {
   "cell_type": "code",
   "execution_count": 37,
   "id": "c5520a14",
   "metadata": {},
   "outputs": [
    {
     "data": {
      "text/plain": [
       "0   0 days 02:22:12.639111808\n",
       "1   0 days 02:22:12.639111818\n",
       "2   0 days 02:22:12.639111828\n",
       "3   0 days 02:22:12.639111838\n",
       "4   0 days 02:22:12.639111848\n",
       "5   0 days 02:22:12.639111858\n",
       "6   0 days 02:22:12.639111868\n",
       "7   0 days 02:22:12.639111878\n",
       "8   0 days 02:22:12.639111888\n",
       "9   0 days 02:22:12.639111898\n",
       "Name: 1, dtype: timedelta64[ns]"
      ]
     },
     "execution_count": 37,
     "metadata": {},
     "output_type": "execute_result"
    }
   ],
   "source": [
    "pd.to_timedelta(datos[1])"
   ]
  },
  {
   "cell_type": "code",
   "execution_count": 38,
   "id": "d9c5e33e",
   "metadata": {},
   "outputs": [
    {
     "data": {
      "text/plain": [
       "0   1970-01-01 02:22:12.639111808\n",
       "1   1970-01-01 02:22:12.639111818\n",
       "2   1970-01-01 02:22:12.639111828\n",
       "3   1970-01-01 02:22:12.639111838\n",
       "4   1970-01-01 02:22:12.639111848\n",
       "5   1970-01-01 02:22:12.639111858\n",
       "6   1970-01-01 02:22:12.639111868\n",
       "7   1970-01-01 02:22:12.639111878\n",
       "8   1970-01-01 02:22:12.639111888\n",
       "9   1970-01-01 02:22:12.639111898\n",
       "Name: 1, dtype: datetime64[ns]"
      ]
     },
     "execution_count": 38,
     "metadata": {},
     "output_type": "execute_result"
    }
   ],
   "source": [
    "pd.to_datetime(datos[1])"
   ]
  },
  {
   "cell_type": "markdown",
   "id": "ab433e79",
   "metadata": {},
   "source": [
    "# Operaciones básicas con dataframes.\n",
    "## Brodcasting"
   ]
  },
  {
   "cell_type": "code",
   "execution_count": 40,
   "id": "b6b8e3e6",
   "metadata": {},
   "outputs": [
    {
     "data": {
      "text/html": [
       "<div>\n",
       "<style scoped>\n",
       "    .dataframe tbody tr th:only-of-type {\n",
       "        vertical-align: middle;\n",
       "    }\n",
       "\n",
       "    .dataframe tbody tr th {\n",
       "        vertical-align: top;\n",
       "    }\n",
       "\n",
       "    .dataframe thead th {\n",
       "        text-align: right;\n",
       "    }\n",
       "</style>\n",
       "<table border=\"1\" class=\"dataframe\">\n",
       "  <thead>\n",
       "    <tr style=\"text-align: right;\">\n",
       "      <th></th>\n",
       "      <th>primero</th>\n",
       "      <th>segundo</th>\n",
       "      <th>tercero</th>\n",
       "      <th>cuarto</th>\n",
       "    </tr>\n",
       "  </thead>\n",
       "  <tbody>\n",
       "    <tr>\n",
       "      <th>0</th>\n",
       "      <td>0</td>\n",
       "      <td>1</td>\n",
       "      <td>2</td>\n",
       "      <td>3</td>\n",
       "    </tr>\n",
       "    <tr>\n",
       "      <th>1</th>\n",
       "      <td>4</td>\n",
       "      <td>5</td>\n",
       "      <td>6</td>\n",
       "      <td>7</td>\n",
       "    </tr>\n",
       "    <tr>\n",
       "      <th>2</th>\n",
       "      <td>8</td>\n",
       "      <td>9</td>\n",
       "      <td>10</td>\n",
       "      <td>11</td>\n",
       "    </tr>\n",
       "    <tr>\n",
       "      <th>3</th>\n",
       "      <td>12</td>\n",
       "      <td>13</td>\n",
       "      <td>14</td>\n",
       "      <td>15</td>\n",
       "    </tr>\n",
       "    <tr>\n",
       "      <th>4</th>\n",
       "      <td>16</td>\n",
       "      <td>17</td>\n",
       "      <td>18</td>\n",
       "      <td>19</td>\n",
       "    </tr>\n",
       "  </tbody>\n",
       "</table>\n",
       "</div>"
      ],
      "text/plain": [
       "   primero  segundo  tercero  cuarto\n",
       "0        0        1        2       3\n",
       "1        4        5        6       7\n",
       "2        8        9       10      11\n",
       "3       12       13       14      15\n",
       "4       16       17       18      19"
      ]
     },
     "execution_count": 40,
     "metadata": {},
     "output_type": "execute_result"
    }
   ],
   "source": [
    "datos = pd.DataFrame(np.arange(20).reshape(5,4), \n",
    "          columns=('primero', 'segundo', 'tercero', 'cuarto'))\n",
    "datos"
   ]
  },
  {
   "cell_type": "code",
   "execution_count": 41,
   "id": "35c4c5e0",
   "metadata": {},
   "outputs": [
    {
     "data": {
      "text/html": [
       "<div>\n",
       "<style scoped>\n",
       "    .dataframe tbody tr th:only-of-type {\n",
       "        vertical-align: middle;\n",
       "    }\n",
       "\n",
       "    .dataframe tbody tr th {\n",
       "        vertical-align: top;\n",
       "    }\n",
       "\n",
       "    .dataframe thead th {\n",
       "        text-align: right;\n",
       "    }\n",
       "</style>\n",
       "<table border=\"1\" class=\"dataframe\">\n",
       "  <thead>\n",
       "    <tr style=\"text-align: right;\">\n",
       "      <th></th>\n",
       "      <th>primero</th>\n",
       "      <th>segundo</th>\n",
       "      <th>tercero</th>\n",
       "      <th>cuarto</th>\n",
       "    </tr>\n",
       "  </thead>\n",
       "  <tbody>\n",
       "    <tr>\n",
       "      <th>2</th>\n",
       "      <td>8</td>\n",
       "      <td>9</td>\n",
       "      <td>10</td>\n",
       "      <td>11</td>\n",
       "    </tr>\n",
       "    <tr>\n",
       "      <th>3</th>\n",
       "      <td>12</td>\n",
       "      <td>13</td>\n",
       "      <td>14</td>\n",
       "      <td>15</td>\n",
       "    </tr>\n",
       "    <tr>\n",
       "      <th>4</th>\n",
       "      <td>16</td>\n",
       "      <td>17</td>\n",
       "      <td>18</td>\n",
       "      <td>19</td>\n",
       "    </tr>\n",
       "  </tbody>\n",
       "</table>\n",
       "</div>"
      ],
      "text/plain": [
       "   primero  segundo  tercero  cuarto\n",
       "2        8        9       10      11\n",
       "3       12       13       14      15\n",
       "4       16       17       18      19"
      ]
     },
     "execution_count": 41,
     "metadata": {},
     "output_type": "execute_result"
    }
   ],
   "source": [
    "datos[2:]"
   ]
  },
  {
   "cell_type": "code",
   "execution_count": 42,
   "id": "faed6ba8",
   "metadata": {},
   "outputs": [
    {
     "data": {
      "text/html": [
       "<div>\n",
       "<style scoped>\n",
       "    .dataframe tbody tr th:only-of-type {\n",
       "        vertical-align: middle;\n",
       "    }\n",
       "\n",
       "    .dataframe tbody tr th {\n",
       "        vertical-align: top;\n",
       "    }\n",
       "\n",
       "    .dataframe thead th {\n",
       "        text-align: right;\n",
       "    }\n",
       "</style>\n",
       "<table border=\"1\" class=\"dataframe\">\n",
       "  <thead>\n",
       "    <tr style=\"text-align: right;\">\n",
       "      <th></th>\n",
       "      <th>primero</th>\n",
       "      <th>segundo</th>\n",
       "      <th>tercero</th>\n",
       "      <th>cuarto</th>\n",
       "    </tr>\n",
       "  </thead>\n",
       "  <tbody>\n",
       "    <tr>\n",
       "      <th>2</th>\n",
       "      <td>40</td>\n",
       "      <td>45</td>\n",
       "      <td>50</td>\n",
       "      <td>55</td>\n",
       "    </tr>\n",
       "    <tr>\n",
       "      <th>3</th>\n",
       "      <td>60</td>\n",
       "      <td>65</td>\n",
       "      <td>70</td>\n",
       "      <td>75</td>\n",
       "    </tr>\n",
       "    <tr>\n",
       "      <th>4</th>\n",
       "      <td>80</td>\n",
       "      <td>85</td>\n",
       "      <td>90</td>\n",
       "      <td>95</td>\n",
       "    </tr>\n",
       "  </tbody>\n",
       "</table>\n",
       "</div>"
      ],
      "text/plain": [
       "   primero  segundo  tercero  cuarto\n",
       "2       40       45       50      55\n",
       "3       60       65       70      75\n",
       "4       80       85       90      95"
      ]
     },
     "execution_count": 42,
     "metadata": {},
     "output_type": "execute_result"
    }
   ],
   "source": [
    "datos[2:] * 5"
   ]
  },
  {
   "cell_type": "code",
   "execution_count": 43,
   "id": "9f01bf39",
   "metadata": {},
   "outputs": [
    {
     "data": {
      "text/html": [
       "<div>\n",
       "<style scoped>\n",
       "    .dataframe tbody tr th:only-of-type {\n",
       "        vertical-align: middle;\n",
       "    }\n",
       "\n",
       "    .dataframe tbody tr th {\n",
       "        vertical-align: top;\n",
       "    }\n",
       "\n",
       "    .dataframe thead th {\n",
       "        text-align: right;\n",
       "    }\n",
       "</style>\n",
       "<table border=\"1\" class=\"dataframe\">\n",
       "  <thead>\n",
       "    <tr style=\"text-align: right;\">\n",
       "      <th></th>\n",
       "      <th>primero</th>\n",
       "      <th>segundo</th>\n",
       "      <th>tercero</th>\n",
       "      <th>cuarto</th>\n",
       "    </tr>\n",
       "  </thead>\n",
       "  <tbody>\n",
       "    <tr>\n",
       "      <th>0</th>\n",
       "      <td>0</td>\n",
       "      <td>1</td>\n",
       "      <td>2</td>\n",
       "      <td>3</td>\n",
       "    </tr>\n",
       "    <tr>\n",
       "      <th>1</th>\n",
       "      <td>4</td>\n",
       "      <td>5</td>\n",
       "      <td>6</td>\n",
       "      <td>7</td>\n",
       "    </tr>\n",
       "    <tr>\n",
       "      <th>2</th>\n",
       "      <td>8</td>\n",
       "      <td>9</td>\n",
       "      <td>10</td>\n",
       "      <td>11</td>\n",
       "    </tr>\n",
       "    <tr>\n",
       "      <th>3</th>\n",
       "      <td>12</td>\n",
       "      <td>13</td>\n",
       "      <td>14</td>\n",
       "      <td>15</td>\n",
       "    </tr>\n",
       "    <tr>\n",
       "      <th>4</th>\n",
       "      <td>16</td>\n",
       "      <td>17</td>\n",
       "      <td>18</td>\n",
       "      <td>19</td>\n",
       "    </tr>\n",
       "  </tbody>\n",
       "</table>\n",
       "</div>"
      ],
      "text/plain": [
       "   primero  segundo  tercero  cuarto\n",
       "0        0        1        2       3\n",
       "1        4        5        6       7\n",
       "2        8        9       10      11\n",
       "3       12       13       14      15\n",
       "4       16       17       18      19"
      ]
     },
     "execution_count": 43,
     "metadata": {},
     "output_type": "execute_result"
    }
   ],
   "source": [
    "datos"
   ]
  },
  {
   "cell_type": "code",
   "execution_count": 45,
   "id": "8d2fc6aa",
   "metadata": {},
   "outputs": [
    {
     "data": {
      "text/html": [
       "<div>\n",
       "<style scoped>\n",
       "    .dataframe tbody tr th:only-of-type {\n",
       "        vertical-align: middle;\n",
       "    }\n",
       "\n",
       "    .dataframe tbody tr th {\n",
       "        vertical-align: top;\n",
       "    }\n",
       "\n",
       "    .dataframe thead th {\n",
       "        text-align: right;\n",
       "    }\n",
       "</style>\n",
       "<table border=\"1\" class=\"dataframe\">\n",
       "  <thead>\n",
       "    <tr style=\"text-align: right;\">\n",
       "      <th></th>\n",
       "      <th>primero</th>\n",
       "      <th>segundo</th>\n",
       "      <th>tercero</th>\n",
       "      <th>cuarto</th>\n",
       "    </tr>\n",
       "  </thead>\n",
       "  <tbody>\n",
       "    <tr>\n",
       "      <th>0</th>\n",
       "      <td>0</td>\n",
       "      <td>1</td>\n",
       "      <td>2</td>\n",
       "      <td>3</td>\n",
       "    </tr>\n",
       "    <tr>\n",
       "      <th>1</th>\n",
       "      <td>4</td>\n",
       "      <td>5</td>\n",
       "      <td>6</td>\n",
       "      <td>7</td>\n",
       "    </tr>\n",
       "    <tr>\n",
       "      <th>2</th>\n",
       "      <td>200</td>\n",
       "      <td>225</td>\n",
       "      <td>250</td>\n",
       "      <td>275</td>\n",
       "    </tr>\n",
       "    <tr>\n",
       "      <th>3</th>\n",
       "      <td>300</td>\n",
       "      <td>325</td>\n",
       "      <td>350</td>\n",
       "      <td>375</td>\n",
       "    </tr>\n",
       "    <tr>\n",
       "      <th>4</th>\n",
       "      <td>400</td>\n",
       "      <td>425</td>\n",
       "      <td>450</td>\n",
       "      <td>475</td>\n",
       "    </tr>\n",
       "  </tbody>\n",
       "</table>\n",
       "</div>"
      ],
      "text/plain": [
       "   primero  segundo  tercero  cuarto\n",
       "0        0        1        2       3\n",
       "1        4        5        6       7\n",
       "2      200      225      250     275\n",
       "3      300      325      350     375\n",
       "4      400      425      450     475"
      ]
     },
     "execution_count": 45,
     "metadata": {},
     "output_type": "execute_result"
    }
   ],
   "source": [
    "datos[2:] = datos[2:] * 5\n",
    "datos"
   ]
  },
  {
   "cell_type": "code",
   "execution_count": 51,
   "id": "511c67aa",
   "metadata": {},
   "outputs": [
    {
     "data": {
      "text/html": [
       "<div>\n",
       "<style scoped>\n",
       "    .dataframe tbody tr th:only-of-type {\n",
       "        vertical-align: middle;\n",
       "    }\n",
       "\n",
       "    .dataframe tbody tr th {\n",
       "        vertical-align: top;\n",
       "    }\n",
       "\n",
       "    .dataframe thead th {\n",
       "        text-align: right;\n",
       "    }\n",
       "</style>\n",
       "<table border=\"1\" class=\"dataframe\">\n",
       "  <thead>\n",
       "    <tr style=\"text-align: right;\">\n",
       "      <th></th>\n",
       "      <th>nombres</th>\n",
       "      <th>fechas</th>\n",
       "      <th>saldo</th>\n",
       "      <th>al corriente</th>\n",
       "    </tr>\n",
       "  </thead>\n",
       "  <tbody>\n",
       "    <tr>\n",
       "      <th>gerente</th>\n",
       "      <td>Carlos Ayala</td>\n",
       "      <td>1995-12-21</td>\n",
       "      <td>3600.0</td>\n",
       "      <td>True</td>\n",
       "    </tr>\n",
       "    <tr>\n",
       "      <th>supervisor</th>\n",
       "      <td>Martha Sánchez</td>\n",
       "      <td>1989-01-13</td>\n",
       "      <td>7452.0</td>\n",
       "      <td>True</td>\n",
       "    </tr>\n",
       "    <tr>\n",
       "      <th>vendedor</th>\n",
       "      <td>Jimena Ríos</td>\n",
       "      <td>1992-09-14</td>\n",
       "      <td>NaN</td>\n",
       "      <td>False</td>\n",
       "    </tr>\n",
       "    <tr>\n",
       "      <th>cajero</th>\n",
       "      <td>Raul Quiroz</td>\n",
       "      <td>1993-07-08</td>\n",
       "      <td>12143.5</td>\n",
       "      <td>True</td>\n",
       "    </tr>\n",
       "  </tbody>\n",
       "</table>\n",
       "</div>"
      ],
      "text/plain": [
       "                   nombres     fechas    saldo  al corriente\n",
       "gerente       Carlos Ayala 1995-12-21   3600.0          True\n",
       "supervisor  Martha Sánchez 1989-01-13   7452.0          True\n",
       "vendedor       Jimena Ríos 1992-09-14      NaN         False\n",
       "cajero         Raul Quiroz 1993-07-08  12143.5          True"
      ]
     },
     "execution_count": 51,
     "metadata": {},
     "output_type": "execute_result"
    }
   ],
   "source": [
    "indice = ['gerente', 'supervisor', 'vendedor', 'cajero']\n",
    "datos = pd.DataFrame({'nombres':('Carlos Ayala',\n",
    "                                 'Martha Sánchez'\n",
    "                                 , 'Jimena Ríos',\n",
    "                                 'Raul Quiroz'),\n",
    "            'fechas':(dt.datetime(1995,12,21), \n",
    "                      dt.datetime(1989,1,13), \n",
    "                      dt.datetime(1992,9,14), \n",
    "                      dt.datetime(1993,7,8)),\n",
    "            'saldo': (3600, \n",
    "                      7452, \n",
    "                      np.NaN, \n",
    "                      12143.5),\n",
    "            'al corriente':(True, \n",
    "                            True, \n",
    "                            False, \n",
    "                            True)},\n",
    "             index= indice)\n",
    "datos"
   ]
  },
  {
   "cell_type": "code",
   "execution_count": 52,
   "id": "3fe93fe8",
   "metadata": {},
   "outputs": [
    {
     "data": {
      "text/plain": [
       "(4, 4)"
      ]
     },
     "execution_count": 52,
     "metadata": {},
     "output_type": "execute_result"
    }
   ],
   "source": [
    "datos.shape"
   ]
  },
  {
   "cell_type": "code",
   "execution_count": 53,
   "id": "0e737959",
   "metadata": {},
   "outputs": [
    {
     "data": {
      "text/plain": [
       "Index(['gerente', 'supervisor', 'vendedor', 'cajero'], dtype='object')"
      ]
     },
     "execution_count": 53,
     "metadata": {},
     "output_type": "execute_result"
    }
   ],
   "source": [
    "datos.index"
   ]
  },
  {
   "cell_type": "code",
   "execution_count": 54,
   "id": "86db676f",
   "metadata": {},
   "outputs": [
    {
     "data": {
      "text/plain": [
       "pandas.core.indexes.base.Index"
      ]
     },
     "execution_count": 54,
     "metadata": {},
     "output_type": "execute_result"
    }
   ],
   "source": [
    "type(datos.index)"
   ]
  },
  {
   "cell_type": "code",
   "execution_count": 55,
   "id": "05009540",
   "metadata": {},
   "outputs": [
    {
     "data": {
      "text/plain": [
       "Index(['nombres', 'fechas', 'saldo', 'al corriente'], dtype='object')"
      ]
     },
     "execution_count": 55,
     "metadata": {},
     "output_type": "execute_result"
    }
   ],
   "source": [
    "datos.columns"
   ]
  },
  {
   "cell_type": "code",
   "execution_count": 56,
   "id": "73966bd2",
   "metadata": {},
   "outputs": [
    {
     "data": {
      "text/plain": [
       "pandas.core.indexes.base.Index"
      ]
     },
     "execution_count": 56,
     "metadata": {},
     "output_type": "execute_result"
    }
   ],
   "source": [
    "type(datos.columns)"
   ]
  },
  {
   "cell_type": "code",
   "execution_count": 57,
   "id": "3d180edf",
   "metadata": {},
   "outputs": [
    {
     "data": {
      "text/html": [
       "<div>\n",
       "<style scoped>\n",
       "    .dataframe tbody tr th:only-of-type {\n",
       "        vertical-align: middle;\n",
       "    }\n",
       "\n",
       "    .dataframe tbody tr th {\n",
       "        vertical-align: top;\n",
       "    }\n",
       "\n",
       "    .dataframe thead th {\n",
       "        text-align: right;\n",
       "    }\n",
       "</style>\n",
       "<table border=\"1\" class=\"dataframe\">\n",
       "  <thead>\n",
       "    <tr style=\"text-align: right;\">\n",
       "      <th></th>\n",
       "      <th>index</th>\n",
       "      <th>nombres</th>\n",
       "      <th>fechas</th>\n",
       "      <th>saldo</th>\n",
       "      <th>al corriente</th>\n",
       "    </tr>\n",
       "  </thead>\n",
       "  <tbody>\n",
       "    <tr>\n",
       "      <th>0</th>\n",
       "      <td>gerente</td>\n",
       "      <td>Carlos Ayala</td>\n",
       "      <td>1995-12-21</td>\n",
       "      <td>3600.0</td>\n",
       "      <td>True</td>\n",
       "    </tr>\n",
       "    <tr>\n",
       "      <th>1</th>\n",
       "      <td>supervisor</td>\n",
       "      <td>Martha Sánchez</td>\n",
       "      <td>1989-01-13</td>\n",
       "      <td>7452.0</td>\n",
       "      <td>True</td>\n",
       "    </tr>\n",
       "    <tr>\n",
       "      <th>2</th>\n",
       "      <td>vendedor</td>\n",
       "      <td>Jimena Ríos</td>\n",
       "      <td>1992-09-14</td>\n",
       "      <td>NaN</td>\n",
       "      <td>False</td>\n",
       "    </tr>\n",
       "    <tr>\n",
       "      <th>3</th>\n",
       "      <td>cajero</td>\n",
       "      <td>Raul Quiroz</td>\n",
       "      <td>1993-07-08</td>\n",
       "      <td>12143.5</td>\n",
       "      <td>True</td>\n",
       "    </tr>\n",
       "  </tbody>\n",
       "</table>\n",
       "</div>"
      ],
      "text/plain": [
       "        index         nombres     fechas    saldo  al corriente\n",
       "0     gerente    Carlos Ayala 1995-12-21   3600.0          True\n",
       "1  supervisor  Martha Sánchez 1989-01-13   7452.0          True\n",
       "2    vendedor     Jimena Ríos 1992-09-14      NaN         False\n",
       "3      cajero     Raul Quiroz 1993-07-08  12143.5          True"
      ]
     },
     "execution_count": 57,
     "metadata": {},
     "output_type": "execute_result"
    }
   ],
   "source": [
    "#reset_index()\n",
    "# regresará un dataframe el cual sustituirá a los índices del dataframe original con valores numéricos y creará una nueva columna con el identificador index conteniendo a los identificadores sustituidos.\n",
    "datos.reset_index()"
   ]
  },
  {
   "cell_type": "code",
   "execution_count": 58,
   "id": "c927066f",
   "metadata": {},
   "outputs": [
    {
     "data": {
      "text/html": [
       "<div>\n",
       "<style scoped>\n",
       "    .dataframe tbody tr th:only-of-type {\n",
       "        vertical-align: middle;\n",
       "    }\n",
       "\n",
       "    .dataframe tbody tr th {\n",
       "        vertical-align: top;\n",
       "    }\n",
       "\n",
       "    .dataframe thead th {\n",
       "        text-align: right;\n",
       "    }\n",
       "</style>\n",
       "<table border=\"1\" class=\"dataframe\">\n",
       "  <thead>\n",
       "    <tr style=\"text-align: right;\">\n",
       "      <th></th>\n",
       "      <th>nombres</th>\n",
       "      <th>fechas</th>\n",
       "      <th>saldo</th>\n",
       "      <th>al corriente</th>\n",
       "    </tr>\n",
       "  </thead>\n",
       "  <tbody>\n",
       "    <tr>\n",
       "      <th>gerente</th>\n",
       "      <td>Carlos Ayala</td>\n",
       "      <td>1995-12-21</td>\n",
       "      <td>3600.0</td>\n",
       "      <td>True</td>\n",
       "    </tr>\n",
       "    <tr>\n",
       "      <th>supervisor</th>\n",
       "      <td>Martha Sánchez</td>\n",
       "      <td>1989-01-13</td>\n",
       "      <td>7452.0</td>\n",
       "      <td>True</td>\n",
       "    </tr>\n",
       "    <tr>\n",
       "      <th>vendedor</th>\n",
       "      <td>Jimena Ríos</td>\n",
       "      <td>1992-09-14</td>\n",
       "      <td>NaN</td>\n",
       "      <td>False</td>\n",
       "    </tr>\n",
       "    <tr>\n",
       "      <th>cajero</th>\n",
       "      <td>Raul Quiroz</td>\n",
       "      <td>1993-07-08</td>\n",
       "      <td>12143.5</td>\n",
       "      <td>True</td>\n",
       "    </tr>\n",
       "  </tbody>\n",
       "</table>\n",
       "</div>"
      ],
      "text/plain": [
       "                   nombres     fechas    saldo  al corriente\n",
       "gerente       Carlos Ayala 1995-12-21   3600.0          True\n",
       "supervisor  Martha Sánchez 1989-01-13   7452.0          True\n",
       "vendedor       Jimena Ríos 1992-09-14      NaN         False\n",
       "cajero         Raul Quiroz 1993-07-08  12143.5          True"
      ]
     },
     "execution_count": 58,
     "metadata": {},
     "output_type": "execute_result"
    }
   ],
   "source": [
    "datos"
   ]
  },
  {
   "cell_type": "code",
   "execution_count": 60,
   "id": "2d191221",
   "metadata": {},
   "outputs": [
    {
     "data": {
      "text/html": [
       "<div>\n",
       "<style scoped>\n",
       "    .dataframe tbody tr th:only-of-type {\n",
       "        vertical-align: middle;\n",
       "    }\n",
       "\n",
       "    .dataframe tbody tr th {\n",
       "        vertical-align: top;\n",
       "    }\n",
       "\n",
       "    .dataframe thead th {\n",
       "        text-align: right;\n",
       "    }\n",
       "</style>\n",
       "<table border=\"1\" class=\"dataframe\">\n",
       "  <thead>\n",
       "    <tr style=\"text-align: right;\">\n",
       "      <th></th>\n",
       "      <th>fechas</th>\n",
       "      <th>saldo</th>\n",
       "      <th>al corriente</th>\n",
       "    </tr>\n",
       "    <tr>\n",
       "      <th>nombres</th>\n",
       "      <th></th>\n",
       "      <th></th>\n",
       "      <th></th>\n",
       "    </tr>\n",
       "  </thead>\n",
       "  <tbody>\n",
       "    <tr>\n",
       "      <th>Carlos Ayala</th>\n",
       "      <td>1995-12-21</td>\n",
       "      <td>3600.0</td>\n",
       "      <td>True</td>\n",
       "    </tr>\n",
       "    <tr>\n",
       "      <th>Martha Sánchez</th>\n",
       "      <td>1989-01-13</td>\n",
       "      <td>7452.0</td>\n",
       "      <td>True</td>\n",
       "    </tr>\n",
       "    <tr>\n",
       "      <th>Jimena Ríos</th>\n",
       "      <td>1992-09-14</td>\n",
       "      <td>NaN</td>\n",
       "      <td>False</td>\n",
       "    </tr>\n",
       "    <tr>\n",
       "      <th>Raul Quiroz</th>\n",
       "      <td>1993-07-08</td>\n",
       "      <td>12143.5</td>\n",
       "      <td>True</td>\n",
       "    </tr>\n",
       "  </tbody>\n",
       "</table>\n",
       "</div>"
      ],
      "text/plain": [
       "                   fechas    saldo  al corriente\n",
       "nombres                                         \n",
       "Carlos Ayala   1995-12-21   3600.0          True\n",
       "Martha Sánchez 1989-01-13   7452.0          True\n",
       "Jimena Ríos    1992-09-14      NaN         False\n",
       "Raul Quiroz    1993-07-08  12143.5          True"
      ]
     },
     "execution_count": 60,
     "metadata": {},
     "output_type": "execute_result"
    }
   ],
   "source": [
    "datos.set_index('nombres')"
   ]
  },
  {
   "cell_type": "code",
   "execution_count": 63,
   "id": "6a539b7e",
   "metadata": {},
   "outputs": [
    {
     "data": {
      "text/html": [
       "<div>\n",
       "<style scoped>\n",
       "    .dataframe tbody tr th:only-of-type {\n",
       "        vertical-align: middle;\n",
       "    }\n",
       "\n",
       "    .dataframe tbody tr th {\n",
       "        vertical-align: top;\n",
       "    }\n",
       "\n",
       "    .dataframe thead th {\n",
       "        text-align: right;\n",
       "    }\n",
       "</style>\n",
       "<table border=\"1\" class=\"dataframe\">\n",
       "  <thead>\n",
       "    <tr style=\"text-align: right;\">\n",
       "      <th></th>\n",
       "      <th>nombres</th>\n",
       "      <th>fechas</th>\n",
       "      <th>saldo</th>\n",
       "      <th>al corriente</th>\n",
       "    </tr>\n",
       "  </thead>\n",
       "  <tbody>\n",
       "    <tr>\n",
       "      <th>gerente</th>\n",
       "      <td>Carlos Ayala</td>\n",
       "      <td>1995-12-21</td>\n",
       "      <td>3600.0</td>\n",
       "      <td>True</td>\n",
       "    </tr>\n",
       "    <tr>\n",
       "      <th>supervisor</th>\n",
       "      <td>Martha Sánchez</td>\n",
       "      <td>1989-01-13</td>\n",
       "      <td>7452.0</td>\n",
       "      <td>True</td>\n",
       "    </tr>\n",
       "    <tr>\n",
       "      <th>supervisor</th>\n",
       "      <td>Martha Sánchez</td>\n",
       "      <td>1989-01-13</td>\n",
       "      <td>7452.0</td>\n",
       "      <td>True</td>\n",
       "    </tr>\n",
       "    <tr>\n",
       "      <th>gerente</th>\n",
       "      <td>Carlos Ayala</td>\n",
       "      <td>1995-12-21</td>\n",
       "      <td>3600.0</td>\n",
       "      <td>True</td>\n",
       "    </tr>\n",
       "    <tr>\n",
       "      <th>director</th>\n",
       "      <td>NaN</td>\n",
       "      <td>NaT</td>\n",
       "      <td>NaN</td>\n",
       "      <td>NaN</td>\n",
       "    </tr>\n",
       "  </tbody>\n",
       "</table>\n",
       "</div>"
      ],
      "text/plain": [
       "                   nombres     fechas   saldo al corriente\n",
       "gerente       Carlos Ayala 1995-12-21  3600.0         True\n",
       "supervisor  Martha Sánchez 1989-01-13  7452.0         True\n",
       "supervisor  Martha Sánchez 1989-01-13  7452.0         True\n",
       "gerente       Carlos Ayala 1995-12-21  3600.0         True\n",
       "director               NaN        NaT     NaN          NaN"
      ]
     },
     "execution_count": 63,
     "metadata": {},
     "output_type": "execute_result"
    }
   ],
   "source": [
    "# Debe existir por lo menos un indice valido en la tupla de parametro\n",
    "# Si se repite el indice en la tupla se repite el renglon en el resultado\n",
    "# Si existe un indice valido y un indice invalido el renglon este ultimo se llena con NaN\n",
    "# Si no existe un indice valido genera un error\n",
    "datos.reindex((\"gerente\", \"supervisor\", \"supervisor\",\"gerente\",\"director\"))"
   ]
  },
  {
   "cell_type": "code",
   "execution_count": 64,
   "id": "71913fd0",
   "metadata": {},
   "outputs": [
    {
     "name": "stdout",
     "output_type": "stream",
     "text": [
      "<class 'pandas.core.frame.DataFrame'>\n",
      "Index: 4 entries, gerente to cajero\n",
      "Data columns (total 4 columns):\n",
      " #   Column        Non-Null Count  Dtype         \n",
      "---  ------        --------------  -----         \n",
      " 0   nombres       4 non-null      object        \n",
      " 1   fechas        4 non-null      datetime64[ns]\n",
      " 2   saldo         3 non-null      float64       \n",
      " 3   al corriente  4 non-null      bool          \n",
      "dtypes: bool(1), datetime64[ns](1), float64(1), object(1)\n",
      "memory usage: 304.0+ bytes\n"
     ]
    }
   ],
   "source": [
    "datos.info()"
   ]
  },
  {
   "cell_type": "markdown",
   "id": "a468a80a",
   "metadata": {},
   "source": [
    "### El método ```iloc[ ]```.\n",
    "\n",
    "El método ```iloc[ ]``` permite identificar a uno o más elemento dentro de un renglon\n",
    "### El método ```iloc[ ]```.\n",
    "\n",
    "El método ```iloc[ ]``` permite identificar a uno o más elemento dentro de un renglón de un dataframe utilizando números enteros para referenciar tanto al índice como a las columnas.\n",
    "```\n",
    "<df>.iloc[<índice>,[<col 1>, <col 2>, ... <col n>]]\n",
    "```\n"
   ]
  },
  {
   "cell_type": "code",
   "execution_count": 66,
   "id": "f438a1f5",
   "metadata": {},
   "outputs": [
    {
     "data": {
      "text/html": [
       "<div>\n",
       "<style scoped>\n",
       "    .dataframe tbody tr th:only-of-type {\n",
       "        vertical-align: middle;\n",
       "    }\n",
       "\n",
       "    .dataframe tbody tr th {\n",
       "        vertical-align: top;\n",
       "    }\n",
       "\n",
       "    .dataframe thead th {\n",
       "        text-align: right;\n",
       "    }\n",
       "</style>\n",
       "<table border=\"1\" class=\"dataframe\">\n",
       "  <thead>\n",
       "    <tr style=\"text-align: right;\">\n",
       "      <th></th>\n",
       "      <th>primero</th>\n",
       "      <th>segundo</th>\n",
       "      <th>tercero</th>\n",
       "      <th>cuarto</th>\n",
       "    </tr>\n",
       "  </thead>\n",
       "  <tbody>\n",
       "    <tr>\n",
       "      <th>0</th>\n",
       "      <td>0</td>\n",
       "      <td>1</td>\n",
       "      <td>2</td>\n",
       "      <td>3</td>\n",
       "    </tr>\n",
       "    <tr>\n",
       "      <th>1</th>\n",
       "      <td>4</td>\n",
       "      <td>5</td>\n",
       "      <td>6</td>\n",
       "      <td>7</td>\n",
       "    </tr>\n",
       "    <tr>\n",
       "      <th>2</th>\n",
       "      <td>8</td>\n",
       "      <td>9</td>\n",
       "      <td>10</td>\n",
       "      <td>11</td>\n",
       "    </tr>\n",
       "    <tr>\n",
       "      <th>3</th>\n",
       "      <td>12</td>\n",
       "      <td>13</td>\n",
       "      <td>14</td>\n",
       "      <td>15</td>\n",
       "    </tr>\n",
       "    <tr>\n",
       "      <th>4</th>\n",
       "      <td>16</td>\n",
       "      <td>17</td>\n",
       "      <td>18</td>\n",
       "      <td>19</td>\n",
       "    </tr>\n",
       "  </tbody>\n",
       "</table>\n",
       "</div>"
      ],
      "text/plain": [
       "   primero  segundo  tercero  cuarto\n",
       "0        0        1        2       3\n",
       "1        4        5        6       7\n",
       "2        8        9       10      11\n",
       "3       12       13       14      15\n",
       "4       16       17       18      19"
      ]
     },
     "execution_count": 66,
     "metadata": {},
     "output_type": "execute_result"
    }
   ],
   "source": [
    "datos = pd.DataFrame(np.arange(20).reshape(5, 4), \n",
    "                     columns=('primero', 'segundo', 'tercero', 'cuarto'))\n",
    "datos"
   ]
  },
  {
   "cell_type": "code",
   "execution_count": 67,
   "id": "db5bf10b",
   "metadata": {},
   "outputs": [
    {
     "data": {
      "text/plain": [
       "cuarto    11\n",
       "Name: 2, dtype: int32"
      ]
     },
     "execution_count": 67,
     "metadata": {},
     "output_type": "execute_result"
    }
   ],
   "source": [
    "datos.iloc[2,[3]]"
   ]
  },
  {
   "cell_type": "code",
   "execution_count": 68,
   "id": "5889241f",
   "metadata": {},
   "outputs": [
    {
     "data": {
      "text/plain": [
       "tercero    10\n",
       "segundo     9\n",
       "cuarto     11\n",
       "Name: 2, dtype: int32"
      ]
     },
     "execution_count": 68,
     "metadata": {},
     "output_type": "execute_result"
    }
   ],
   "source": [
    "datos.iloc[2,[2,1,3]]"
   ]
  },
  {
   "cell_type": "code",
   "execution_count": 69,
   "id": "da88bb5b",
   "metadata": {},
   "outputs": [
    {
     "data": {
      "text/plain": [
       "primero     8\n",
       "segundo     9\n",
       "tercero    10\n",
       "cuarto     11\n",
       "Name: 2, dtype: int32"
      ]
     },
     "execution_count": 69,
     "metadata": {},
     "output_type": "execute_result"
    }
   ],
   "source": [
    "datos.iloc[2]"
   ]
  },
  {
   "cell_type": "code",
   "execution_count": null,
   "id": "2baa5a01",
   "metadata": {},
   "outputs": [],
   "source": [
    "datos.iloc[2,3[2,1,3]] # Error no se puede obtener mas de un renglon con iloc"
   ]
  },
  {
   "cell_type": "markdown",
   "id": "48920d23",
   "metadata": {},
   "source": [
    "### El método ```loc[ ]```.\n",
    "permite identificar a uno o más elemento dentro de un renglón de un dataframe utilizando los identificadores para referenciar tanto al índice como a las columnas.\n",
    "\n",
    "```\n",
    "<df>.loc[<id_índice>,[<id_col 1>, <id_col 2>, ... <id_col n>]\n",
    "```\n"
   ]
  },
  {
   "cell_type": "code",
   "execution_count": 72,
   "id": "658bd15e",
   "metadata": {},
   "outputs": [
    {
     "data": {
      "text/html": [
       "<div>\n",
       "<style scoped>\n",
       "    .dataframe tbody tr th:only-of-type {\n",
       "        vertical-align: middle;\n",
       "    }\n",
       "\n",
       "    .dataframe tbody tr th {\n",
       "        vertical-align: top;\n",
       "    }\n",
       "\n",
       "    .dataframe thead th {\n",
       "        text-align: right;\n",
       "    }\n",
       "</style>\n",
       "<table border=\"1\" class=\"dataframe\">\n",
       "  <thead>\n",
       "    <tr style=\"text-align: right;\">\n",
       "      <th></th>\n",
       "      <th>nombres</th>\n",
       "      <th>fechas</th>\n",
       "      <th>saldo</th>\n",
       "      <th>al corriente</th>\n",
       "    </tr>\n",
       "  </thead>\n",
       "  <tbody>\n",
       "    <tr>\n",
       "      <th>gerente</th>\n",
       "      <td>Carlos Ayala</td>\n",
       "      <td>1995-12-21</td>\n",
       "      <td>3600.0</td>\n",
       "      <td>True</td>\n",
       "    </tr>\n",
       "    <tr>\n",
       "      <th>supervisor</th>\n",
       "      <td>Martha Sánchez</td>\n",
       "      <td>1989-01-13</td>\n",
       "      <td>7452.0</td>\n",
       "      <td>True</td>\n",
       "    </tr>\n",
       "    <tr>\n",
       "      <th>vendedor</th>\n",
       "      <td>Jimena Ríos</td>\n",
       "      <td>1992-09-14</td>\n",
       "      <td>NaN</td>\n",
       "      <td>False</td>\n",
       "    </tr>\n",
       "    <tr>\n",
       "      <th>cajero</th>\n",
       "      <td>Raul Quiroz</td>\n",
       "      <td>1993-07-08</td>\n",
       "      <td>12143.5</td>\n",
       "      <td>True</td>\n",
       "    </tr>\n",
       "  </tbody>\n",
       "</table>\n",
       "</div>"
      ],
      "text/plain": [
       "                   nombres     fechas    saldo  al corriente\n",
       "gerente       Carlos Ayala 1995-12-21   3600.0          True\n",
       "supervisor  Martha Sánchez 1989-01-13   7452.0          True\n",
       "vendedor       Jimena Ríos 1992-09-14      NaN         False\n",
       "cajero         Raul Quiroz 1993-07-08  12143.5          True"
      ]
     },
     "execution_count": 72,
     "metadata": {},
     "output_type": "execute_result"
    }
   ],
   "source": [
    "indice = ['gerente', 'supervisor', 'vendedor', 'cajero']\n",
    "datos = pd.DataFrame({'nombres':('Carlos Ayala', \n",
    "                                    'Martha Sánchez', \n",
    "                                    'Jimena Ríos', \n",
    "                                    'Raul Quiroz'),\n",
    "            'fechas':(dt.datetime(1995,12,21), \n",
    "                      dt.datetime(1989,1,13), \n",
    "                      dt.datetime(1992,9,14), \n",
    "                      dt.datetime(1993,7,8)),\n",
    "            'saldo': (3600, \n",
    "                      7452, \n",
    "                      np.NaN, \n",
    "                      12143.5),\n",
    "            'al corriente':(True, \n",
    "                            True, \n",
    "                            False, \n",
    "                            True)}, \n",
    "            index=indice)\n",
    "datos"
   ]
  },
  {
   "cell_type": "code",
   "execution_count": 73,
   "id": "8db9d666",
   "metadata": {},
   "outputs": [
    {
     "data": {
      "text/plain": [
       "fechas    1989-01-13 00:00:00\n",
       "Name: supervisor, dtype: object"
      ]
     },
     "execution_count": 73,
     "metadata": {},
     "output_type": "execute_result"
    }
   ],
   "source": [
    "datos.loc[\"supervisor\",[\"fechas\"]]"
   ]
  },
  {
   "cell_type": "code",
   "execution_count": 75,
   "id": "5c92ce35",
   "metadata": {},
   "outputs": [
    {
     "data": {
      "text/plain": [
       "gerente        True\n",
       "supervisor     True\n",
       "vendedor      False\n",
       "cajero         True\n",
       "Name: saldo, dtype: bool"
      ]
     },
     "execution_count": 75,
     "metadata": {},
     "output_type": "execute_result"
    }
   ],
   "source": [
    "datos[\"saldo\"] > 3000"
   ]
  },
  {
   "cell_type": "code",
   "execution_count": 78,
   "id": "832b3bbb",
   "metadata": {},
   "outputs": [
    {
     "data": {
      "text/html": [
       "<div>\n",
       "<style scoped>\n",
       "    .dataframe tbody tr th:only-of-type {\n",
       "        vertical-align: middle;\n",
       "    }\n",
       "\n",
       "    .dataframe tbody tr th {\n",
       "        vertical-align: top;\n",
       "    }\n",
       "\n",
       "    .dataframe thead th {\n",
       "        text-align: right;\n",
       "    }\n",
       "</style>\n",
       "<table border=\"1\" class=\"dataframe\">\n",
       "  <thead>\n",
       "    <tr style=\"text-align: right;\">\n",
       "      <th></th>\n",
       "      <th>nombres</th>\n",
       "      <th>fechas</th>\n",
       "      <th>saldo</th>\n",
       "      <th>al corriente</th>\n",
       "    </tr>\n",
       "  </thead>\n",
       "  <tbody>\n",
       "    <tr>\n",
       "      <th>gerente</th>\n",
       "      <td>Carlos Ayala</td>\n",
       "      <td>1995-12-21</td>\n",
       "      <td>3600.0</td>\n",
       "      <td>True</td>\n",
       "    </tr>\n",
       "    <tr>\n",
       "      <th>supervisor</th>\n",
       "      <td>Martha Sánchez</td>\n",
       "      <td>1989-01-13</td>\n",
       "      <td>7452.0</td>\n",
       "      <td>True</td>\n",
       "    </tr>\n",
       "    <tr>\n",
       "      <th>cajero</th>\n",
       "      <td>Raul Quiroz</td>\n",
       "      <td>1993-07-08</td>\n",
       "      <td>12143.5</td>\n",
       "      <td>True</td>\n",
       "    </tr>\n",
       "  </tbody>\n",
       "</table>\n",
       "</div>"
      ],
      "text/plain": [
       "                   nombres     fechas    saldo  al corriente\n",
       "gerente       Carlos Ayala 1995-12-21   3600.0          True\n",
       "supervisor  Martha Sánchez 1989-01-13   7452.0          True\n",
       "cajero         Raul Quiroz 1993-07-08  12143.5          True"
      ]
     },
     "execution_count": 78,
     "metadata": {},
     "output_type": "execute_result"
    }
   ],
   "source": [
    "datos.loc[datos[\"saldo\"] > 3000]"
   ]
  },
  {
   "cell_type": "code",
   "execution_count": 79,
   "id": "cb5f2ef3",
   "metadata": {},
   "outputs": [
    {
     "data": {
      "text/html": [
       "<div>\n",
       "<style scoped>\n",
       "    .dataframe tbody tr th:only-of-type {\n",
       "        vertical-align: middle;\n",
       "    }\n",
       "\n",
       "    .dataframe tbody tr th {\n",
       "        vertical-align: top;\n",
       "    }\n",
       "\n",
       "    .dataframe thead th {\n",
       "        text-align: right;\n",
       "    }\n",
       "</style>\n",
       "<table border=\"1\" class=\"dataframe\">\n",
       "  <thead>\n",
       "    <tr style=\"text-align: right;\">\n",
       "      <th></th>\n",
       "      <th>nombres</th>\n",
       "      <th>fechas</th>\n",
       "      <th>saldo</th>\n",
       "      <th>al corriente</th>\n",
       "    </tr>\n",
       "  </thead>\n",
       "  <tbody>\n",
       "    <tr>\n",
       "      <th>gerente</th>\n",
       "      <td>Carlos Ayala</td>\n",
       "      <td>1995-12-21</td>\n",
       "      <td>3600.0</td>\n",
       "      <td>True</td>\n",
       "    </tr>\n",
       "    <tr>\n",
       "      <th>supervisor</th>\n",
       "      <td>Martha Sánchez</td>\n",
       "      <td>1989-01-13</td>\n",
       "      <td>7452.0</td>\n",
       "      <td>True</td>\n",
       "    </tr>\n",
       "    <tr>\n",
       "      <th>cajero</th>\n",
       "      <td>Raul Quiroz</td>\n",
       "      <td>1993-07-08</td>\n",
       "      <td>12143.5</td>\n",
       "      <td>True</td>\n",
       "    </tr>\n",
       "  </tbody>\n",
       "</table>\n",
       "</div>"
      ],
      "text/plain": [
       "                   nombres     fechas    saldo  al corriente\n",
       "gerente       Carlos Ayala 1995-12-21   3600.0          True\n",
       "supervisor  Martha Sánchez 1989-01-13   7452.0          True\n",
       "cajero         Raul Quiroz 1993-07-08  12143.5          True"
      ]
     },
     "execution_count": 79,
     "metadata": {},
     "output_type": "execute_result"
    }
   ],
   "source": [
    "datos.loc[datos[\"al corriente\"]]"
   ]
  },
  {
   "cell_type": "code",
   "execution_count": 80,
   "id": "ecbdc6ba",
   "metadata": {},
   "outputs": [
    {
     "data": {
      "text/html": [
       "<div>\n",
       "<style scoped>\n",
       "    .dataframe tbody tr th:only-of-type {\n",
       "        vertical-align: middle;\n",
       "    }\n",
       "\n",
       "    .dataframe tbody tr th {\n",
       "        vertical-align: top;\n",
       "    }\n",
       "\n",
       "    .dataframe thead th {\n",
       "        text-align: right;\n",
       "    }\n",
       "</style>\n",
       "<table border=\"1\" class=\"dataframe\">\n",
       "  <thead>\n",
       "    <tr style=\"text-align: right;\">\n",
       "      <th></th>\n",
       "      <th>nombres</th>\n",
       "      <th>fechas</th>\n",
       "      <th>saldo</th>\n",
       "      <th>al corriente</th>\n",
       "    </tr>\n",
       "  </thead>\n",
       "  <tbody>\n",
       "    <tr>\n",
       "      <th>vendedor</th>\n",
       "      <td>Jimena Ríos</td>\n",
       "      <td>1992-09-14</td>\n",
       "      <td>NaN</td>\n",
       "      <td>False</td>\n",
       "    </tr>\n",
       "  </tbody>\n",
       "</table>\n",
       "</div>"
      ],
      "text/plain": [
       "              nombres     fechas  saldo  al corriente\n",
       "vendedor  Jimena Ríos 1992-09-14    NaN         False"
      ]
     },
     "execution_count": 80,
     "metadata": {},
     "output_type": "execute_result"
    }
   ],
   "source": [
    "datos.loc[datos[\"al corriente\"]==False]"
   ]
  },
  {
   "cell_type": "code",
   "execution_count": 82,
   "id": "a23f2558",
   "metadata": {},
   "outputs": [
    {
     "data": {
      "text/html": [
       "<div>\n",
       "<style scoped>\n",
       "    .dataframe tbody tr th:only-of-type {\n",
       "        vertical-align: middle;\n",
       "    }\n",
       "\n",
       "    .dataframe tbody tr th {\n",
       "        vertical-align: top;\n",
       "    }\n",
       "\n",
       "    .dataframe thead th {\n",
       "        text-align: right;\n",
       "    }\n",
       "</style>\n",
       "<table border=\"1\" class=\"dataframe\">\n",
       "  <thead>\n",
       "    <tr style=\"text-align: right;\">\n",
       "      <th></th>\n",
       "      <th>fechas</th>\n",
       "      <th>nombres</th>\n",
       "    </tr>\n",
       "  </thead>\n",
       "  <tbody>\n",
       "    <tr>\n",
       "      <th>gerente</th>\n",
       "      <td>1995-12-21</td>\n",
       "      <td>Carlos Ayala</td>\n",
       "    </tr>\n",
       "    <tr>\n",
       "      <th>supervisor</th>\n",
       "      <td>1989-01-13</td>\n",
       "      <td>Martha Sánchez</td>\n",
       "    </tr>\n",
       "    <tr>\n",
       "      <th>cajero</th>\n",
       "      <td>1993-07-08</td>\n",
       "      <td>Raul Quiroz</td>\n",
       "    </tr>\n",
       "  </tbody>\n",
       "</table>\n",
       "</div>"
      ],
      "text/plain": [
       "               fechas         nombres\n",
       "gerente    1995-12-21    Carlos Ayala\n",
       "supervisor 1989-01-13  Martha Sánchez\n",
       "cajero     1993-07-08     Raul Quiroz"
      ]
     },
     "execution_count": 82,
     "metadata": {},
     "output_type": "execute_result"
    }
   ],
   "source": [
    "datos.loc[datos[\"al corriente\"], [\"fechas\",\"nombres\"]]"
   ]
  },
  {
   "cell_type": "code",
   "execution_count": 83,
   "id": "dc2de2e3",
   "metadata": {},
   "outputs": [
    {
     "data": {
      "text/html": [
       "<div>\n",
       "<style scoped>\n",
       "    .dataframe tbody tr th:only-of-type {\n",
       "        vertical-align: middle;\n",
       "    }\n",
       "\n",
       "    .dataframe tbody tr th {\n",
       "        vertical-align: top;\n",
       "    }\n",
       "\n",
       "    .dataframe thead th {\n",
       "        text-align: right;\n",
       "    }\n",
       "</style>\n",
       "<table border=\"1\" class=\"dataframe\">\n",
       "  <thead>\n",
       "    <tr style=\"text-align: right;\">\n",
       "      <th></th>\n",
       "      <th>fechas</th>\n",
       "      <th>nombres</th>\n",
       "    </tr>\n",
       "  </thead>\n",
       "  <tbody>\n",
       "    <tr>\n",
       "      <th>vendedor</th>\n",
       "      <td>1992-09-14</td>\n",
       "      <td>Jimena Ríos</td>\n",
       "    </tr>\n",
       "  </tbody>\n",
       "</table>\n",
       "</div>"
      ],
      "text/plain": [
       "             fechas      nombres\n",
       "vendedor 1992-09-14  Jimena Ríos"
      ]
     },
     "execution_count": 83,
     "metadata": {},
     "output_type": "execute_result"
    }
   ],
   "source": [
    "datos.loc[datos[\"al corriente\"]==False, [\"fechas\",\"nombres\"]]"
   ]
  },
  {
   "cell_type": "code",
   "execution_count": 85,
   "id": "2855faa6",
   "metadata": {},
   "outputs": [
    {
     "data": {
      "text/html": [
       "<div>\n",
       "<style scoped>\n",
       "    .dataframe tbody tr th:only-of-type {\n",
       "        vertical-align: middle;\n",
       "    }\n",
       "\n",
       "    .dataframe tbody tr th {\n",
       "        vertical-align: top;\n",
       "    }\n",
       "\n",
       "    .dataframe thead th {\n",
       "        text-align: right;\n",
       "    }\n",
       "</style>\n",
       "<table border=\"1\" class=\"dataframe\">\n",
       "  <thead>\n",
       "    <tr style=\"text-align: right;\">\n",
       "      <th></th>\n",
       "      <th>saldo</th>\n",
       "      <th>nombres</th>\n",
       "    </tr>\n",
       "  </thead>\n",
       "  <tbody>\n",
       "    <tr>\n",
       "      <th>gerente</th>\n",
       "      <td>3600.0</td>\n",
       "      <td>Carlos Ayala</td>\n",
       "    </tr>\n",
       "    <tr>\n",
       "      <th>supervisor</th>\n",
       "      <td>7452.0</td>\n",
       "      <td>Martha Sánchez</td>\n",
       "    </tr>\n",
       "    <tr>\n",
       "      <th>vendedor</th>\n",
       "      <td>NaN</td>\n",
       "      <td>Jimena Ríos</td>\n",
       "    </tr>\n",
       "    <tr>\n",
       "      <th>cajero</th>\n",
       "      <td>12143.5</td>\n",
       "      <td>Raul Quiroz</td>\n",
       "    </tr>\n",
       "  </tbody>\n",
       "</table>\n",
       "</div>"
      ],
      "text/plain": [
       "              saldo         nombres\n",
       "gerente      3600.0    Carlos Ayala\n",
       "supervisor   7452.0  Martha Sánchez\n",
       "vendedor        NaN     Jimena Ríos\n",
       "cajero      12143.5     Raul Quiroz"
      ]
     },
     "execution_count": 85,
     "metadata": {},
     "output_type": "execute_result"
    }
   ],
   "source": [
    "datos[[\"saldo\", \"nombres\"]]"
   ]
  },
  {
   "cell_type": "code",
   "execution_count": 87,
   "id": "beaf1857",
   "metadata": {},
   "outputs": [
    {
     "data": {
      "text/html": [
       "<div>\n",
       "<style scoped>\n",
       "    .dataframe tbody tr th:only-of-type {\n",
       "        vertical-align: middle;\n",
       "    }\n",
       "\n",
       "    .dataframe tbody tr th {\n",
       "        vertical-align: top;\n",
       "    }\n",
       "\n",
       "    .dataframe thead th {\n",
       "        text-align: right;\n",
       "    }\n",
       "</style>\n",
       "<table border=\"1\" class=\"dataframe\">\n",
       "  <thead>\n",
       "    <tr style=\"text-align: right;\">\n",
       "      <th></th>\n",
       "      <th>nombres</th>\n",
       "      <th>fechas</th>\n",
       "      <th>saldo</th>\n",
       "      <th>al corriente</th>\n",
       "    </tr>\n",
       "  </thead>\n",
       "  <tbody>\n",
       "    <tr>\n",
       "      <th>gerente</th>\n",
       "      <td>Carlos Ayala</td>\n",
       "      <td>1995-12-21</td>\n",
       "      <td>3600.0</td>\n",
       "      <td>True</td>\n",
       "    </tr>\n",
       "    <tr>\n",
       "      <th>supervisor</th>\n",
       "      <td>Martha Sánchez</td>\n",
       "      <td>1989-01-13</td>\n",
       "      <td>7452.0</td>\n",
       "      <td>True</td>\n",
       "    </tr>\n",
       "    <tr>\n",
       "      <th>vendedor</th>\n",
       "      <td>Jimena Ríos</td>\n",
       "      <td>1992-09-14</td>\n",
       "      <td>NaN</td>\n",
       "      <td>False</td>\n",
       "    </tr>\n",
       "    <tr>\n",
       "      <th>cajero</th>\n",
       "      <td>Raul Quiroz</td>\n",
       "      <td>1993-07-08</td>\n",
       "      <td>12143.5</td>\n",
       "      <td>True</td>\n",
       "    </tr>\n",
       "  </tbody>\n",
       "</table>\n",
       "</div>"
      ],
      "text/plain": [
       "                   nombres     fechas    saldo  al corriente\n",
       "gerente       Carlos Ayala 1995-12-21   3600.0          True\n",
       "supervisor  Martha Sánchez 1989-01-13   7452.0          True\n",
       "vendedor       Jimena Ríos 1992-09-14      NaN         False\n",
       "cajero         Raul Quiroz 1993-07-08  12143.5          True"
      ]
     },
     "execution_count": 87,
     "metadata": {},
     "output_type": "execute_result"
    }
   ],
   "source": [
    "datos"
   ]
  },
  {
   "cell_type": "code",
   "execution_count": 86,
   "id": "8fb9b298",
   "metadata": {},
   "outputs": [
    {
     "data": {
      "text/plain": [
       "nan"
      ]
     },
     "execution_count": 86,
     "metadata": {},
     "output_type": "execute_result"
    }
   ],
   "source": [
    "# iat[] regresa un elemento localizado en un indice y columna especifica\n",
    "datos.iat[2,2]"
   ]
  },
  {
   "cell_type": "code",
   "execution_count": 88,
   "id": "c0a18d0c",
   "metadata": {},
   "outputs": [
    {
     "data": {
      "text/plain": [
       "numpy.float64"
      ]
     },
     "execution_count": 88,
     "metadata": {},
     "output_type": "execute_result"
    }
   ],
   "source": [
    "type(datos.iat[2,2])"
   ]
  },
  {
   "cell_type": "code",
   "execution_count": 89,
   "id": "c1a67bd9",
   "metadata": {},
   "outputs": [
    {
     "data": {
      "text/plain": [
       "nan"
      ]
     },
     "execution_count": 89,
     "metadata": {},
     "output_type": "execute_result"
    }
   ],
   "source": [
    "datos.at[\"vendedor\",\"saldo\"]"
   ]
  },
  {
   "cell_type": "code",
   "execution_count": 90,
   "id": "b53062a1",
   "metadata": {},
   "outputs": [
    {
     "data": {
      "text/plain": [
       "numpy.float64"
      ]
     },
     "execution_count": 90,
     "metadata": {},
     "output_type": "execute_result"
    }
   ],
   "source": [
    "type(datos.at[\"vendedor\",\"saldo\"])"
   ]
  },
  {
   "cell_type": "code",
   "execution_count": null,
   "id": "248aa9a6",
   "metadata": {},
   "outputs": [],
   "source": []
  }
 ],
 "metadata": {
  "kernelspec": {
   "display_name": "Python 3.10.4 ('venv': venv)",
   "language": "python",
   "name": "python3"
  },
  "language_info": {
   "codemirror_mode": {
    "name": "ipython",
    "version": 3
   },
   "file_extension": ".py",
   "mimetype": "text/x-python",
   "name": "python",
   "nbconvert_exporter": "python",
   "pygments_lexer": "ipython3",
   "version": "3.10.4"
  },
  "vscode": {
   "interpreter": {
    "hash": "3a9d05027adac22f9b4c744f069ecb3bd3a599ae885142a5cc3a50bcbf93b267"
   }
  }
 },
 "nbformat": 4,
 "nbformat_minor": 5
}
