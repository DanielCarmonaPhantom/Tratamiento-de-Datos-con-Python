{
 "cells": [
  {
   "cell_type": "markdown",
   "metadata": {},
   "source": [
    "# Sesión 4 Pandas Tipos operaciones"
   ]
  },
  {
   "cell_type": "code",
   "execution_count": 7,
   "metadata": {},
   "outputs": [],
   "source": [
    "import numpy as np\n",
    "import pandas as pd\n",
    "\n",
    "from datetime import date, time, datetime\n",
    "from datetime import timedelta"
   ]
  },
  {
   "cell_type": "markdown",
   "metadata": {},
   "source": [
    "\n",
    "* ```object``` el cual representa a una cadena de caracteres.\n",
    "* ```int64``` es el tipo para números enteros. \n",
    "* ```float64``` es el tipo para números de punto flotante.\n",
    "* ```bool``` es el tipo para valores booleanos.\n",
    "* ```datetime64``` es el tipo usado para gestionar fechas y horas.\n",
    "* ```timedelta``` es el tipo de diferencias de tiempo. \n",
    "* ```category``` es un tipo de dato que contiene una colección finita de posibles valores"
   ]
  },
  {
   "cell_type": "markdown",
   "metadata": {},
   "source": [
    "## Funciones de fecha"
   ]
  },
  {
   "cell_type": "markdown",
   "metadata": {},
   "source": [
    "Los tipos de datos date, time y datetime\n",
    "\n",
    "* `date`(año, mes, dia) : Devuelve un objeto de tipo date que representa la fecha con el año, mes y dia indicados.\n",
    "* `time`(hora, minutos, segundos, microsegundos) : Devuelve un objeto de tipo time que representa un tiempo la hora, minutos, segundos y microsegundos indicados.\n",
    "* `datetime`(año, mes, dia, hora, minutos, segundos, microsegundos) : Devuelve un objeto de tipo datetime que representa una fecha y hora con el año, mes, dia, hora, minutos, segundos y microsegundos indicados.\n"
   ]
  },
  {
   "cell_type": "code",
   "execution_count": 8,
   "metadata": {},
   "outputs": [
    {
     "data": {
      "text/html": [
       "<div>\n",
       "<style scoped>\n",
       "    .dataframe tbody tr th:only-of-type {\n",
       "        vertical-align: middle;\n",
       "    }\n",
       "\n",
       "    .dataframe tbody tr th {\n",
       "        vertical-align: top;\n",
       "    }\n",
       "\n",
       "    .dataframe thead th {\n",
       "        text-align: right;\n",
       "    }\n",
       "</style>\n",
       "<table border=\"1\" class=\"dataframe\">\n",
       "  <thead>\n",
       "    <tr style=\"text-align: right;\">\n",
       "      <th></th>\n",
       "      <th>nombres</th>\n",
       "      <th>fechas</th>\n",
       "      <th>saldo</th>\n",
       "      <th>al corriente</th>\n",
       "    </tr>\n",
       "  </thead>\n",
       "  <tbody>\n",
       "    <tr>\n",
       "      <th>0</th>\n",
       "      <td>Carlos Ayala</td>\n",
       "      <td>1995-12-21</td>\n",
       "      <td>3600.0</td>\n",
       "      <td>True</td>\n",
       "    </tr>\n",
       "    <tr>\n",
       "      <th>1</th>\n",
       "      <td>Martha Sánchez</td>\n",
       "      <td>1989-01-13</td>\n",
       "      <td>7452.0</td>\n",
       "      <td>True</td>\n",
       "    </tr>\n",
       "    <tr>\n",
       "      <th>2</th>\n",
       "      <td>Jimena Ríos</td>\n",
       "      <td>1992-09-14</td>\n",
       "      <td>NaN</td>\n",
       "      <td>False</td>\n",
       "    </tr>\n",
       "    <tr>\n",
       "      <th>3</th>\n",
       "      <td>Raul Quiroz</td>\n",
       "      <td>1993-07-08</td>\n",
       "      <td>12143.5</td>\n",
       "      <td>True</td>\n",
       "    </tr>\n",
       "  </tbody>\n",
       "</table>\n",
       "</div>"
      ],
      "text/plain": [
       "          nombres      fechas    saldo  al corriente\n",
       "0    Carlos Ayala  1995-12-21   3600.0          True\n",
       "1  Martha Sánchez  1989-01-13   7452.0          True\n",
       "2     Jimena Ríos  1992-09-14      NaN         False\n",
       "3     Raul Quiroz  1993-07-08  12143.5          True"
      ]
     },
     "execution_count": 8,
     "metadata": {},
     "output_type": "execute_result"
    }
   ],
   "source": [
    "datos = pd.DataFrame({'nombres':('Carlos Ayala',\n",
    "                                 'Martha Sánchez'\n",
    "                                 , 'Jimena Ríos',\n",
    "                                 'Raul Quiroz'),\n",
    "            'fechas':(date(year=1995, month=12, day=21), \n",
    "                      date(year=1989, month=1, day=13), \n",
    "                      date(year=1992, month=9, day=14), \n",
    "                      date(year=1993, month=7, day=8)),\n",
    "            'saldo': (3600, \n",
    "                      7452, \n",
    "                      np.NaN, \n",
    "                      12143.5),\n",
    "            'al corriente':(True, \n",
    "                            True, \n",
    "                            False, \n",
    "                            True)})\n",
    "\n",
    "datos"
   ]
  },
  {
   "cell_type": "markdown",
   "metadata": {},
   "source": [
    "Convertir un objecto de pandas a un tipo"
   ]
  },
  {
   "cell_type": "code",
   "execution_count": 10,
   "metadata": {},
   "outputs": [
    {
     "data": {
      "text/plain": [
       "nombres          object\n",
       "fechas           object\n",
       "saldo           float64\n",
       "al corriente       bool\n",
       "dtype: object"
      ]
     },
     "execution_count": 10,
     "metadata": {},
     "output_type": "execute_result"
    }
   ],
   "source": [
    "datos.dtypes"
   ]
  },
  {
   "cell_type": "code",
   "execution_count": 11,
   "metadata": {},
   "outputs": [
    {
     "data": {
      "text/plain": [
       "nombres         object\n",
       "fechas          object\n",
       "saldo           object\n",
       "al corriente    object\n",
       "dtype: object"
      ]
     },
     "execution_count": 11,
     "metadata": {},
     "output_type": "execute_result"
    }
   ],
   "source": [
    "datos2 = datos.astype(str)\n",
    "datos2.dtypes"
   ]
  },
  {
   "cell_type": "code",
   "execution_count": 17,
   "metadata": {},
   "outputs": [
    {
     "name": "stdout",
     "output_type": "stream",
     "text": [
      "<class 'pandas.core.frame.DataFrame'>\n",
      "RangeIndex: 4 entries, 0 to 3\n",
      "Data columns (total 4 columns):\n",
      " #   Column        Non-Null Count  Dtype \n",
      "---  ------        --------------  ----- \n",
      " 0   nombres       4 non-null      object\n",
      " 1   fechas        4 non-null      object\n",
      " 2   saldo         4 non-null      object\n",
      " 3   al corriente  4 non-null      object\n",
      "dtypes: object(4)\n",
      "memory usage: 256.0+ bytes\n"
     ]
    }
   ],
   "source": [
    "datos2.info()"
   ]
  },
  {
   "cell_type": "code",
   "execution_count": 18,
   "metadata": {},
   "outputs": [
    {
     "data": {
      "text/html": [
       "<div>\n",
       "<style scoped>\n",
       "    .dataframe tbody tr th:only-of-type {\n",
       "        vertical-align: middle;\n",
       "    }\n",
       "\n",
       "    .dataframe tbody tr th {\n",
       "        vertical-align: top;\n",
       "    }\n",
       "\n",
       "    .dataframe thead th {\n",
       "        text-align: right;\n",
       "    }\n",
       "</style>\n",
       "<table border=\"1\" class=\"dataframe\">\n",
       "  <thead>\n",
       "    <tr style=\"text-align: right;\">\n",
       "      <th></th>\n",
       "      <th>nombres</th>\n",
       "      <th>fechas</th>\n",
       "      <th>saldo</th>\n",
       "      <th>al corriente</th>\n",
       "    </tr>\n",
       "  </thead>\n",
       "  <tbody>\n",
       "    <tr>\n",
       "      <th>0</th>\n",
       "      <td>Carlos Ayala</td>\n",
       "      <td>1995-12-21</td>\n",
       "      <td>3600.0</td>\n",
       "      <td>True</td>\n",
       "    </tr>\n",
       "    <tr>\n",
       "      <th>1</th>\n",
       "      <td>Martha Sánchez</td>\n",
       "      <td>1989-01-13</td>\n",
       "      <td>7452.0</td>\n",
       "      <td>True</td>\n",
       "    </tr>\n",
       "    <tr>\n",
       "      <th>2</th>\n",
       "      <td>Jimena Ríos</td>\n",
       "      <td>1992-09-14</td>\n",
       "      <td>nan</td>\n",
       "      <td>False</td>\n",
       "    </tr>\n",
       "    <tr>\n",
       "      <th>3</th>\n",
       "      <td>Raul Quiroz</td>\n",
       "      <td>1993-07-08</td>\n",
       "      <td>12143.5</td>\n",
       "      <td>True</td>\n",
       "    </tr>\n",
       "  </tbody>\n",
       "</table>\n",
       "</div>"
      ],
      "text/plain": [
       "          nombres      fechas    saldo al corriente\n",
       "0    Carlos Ayala  1995-12-21   3600.0         True\n",
       "1  Martha Sánchez  1989-01-13   7452.0         True\n",
       "2     Jimena Ríos  1992-09-14      nan        False\n",
       "3     Raul Quiroz  1993-07-08  12143.5         True"
      ]
     },
     "execution_count": 18,
     "metadata": {},
     "output_type": "execute_result"
    }
   ],
   "source": [
    "datos2"
   ]
  },
  {
   "cell_type": "code",
   "execution_count": 19,
   "metadata": {},
   "outputs": [
    {
     "data": {
      "text/plain": [
       "0     3600.0\n",
       "1     7452.0\n",
       "2        NaN\n",
       "3    12143.5\n",
       "Name: saldo, dtype: float64"
      ]
     },
     "execution_count": 19,
     "metadata": {},
     "output_type": "execute_result"
    }
   ],
   "source": [
    "datos2['saldo'].astype('float')"
   ]
  },
  {
   "cell_type": "code",
   "execution_count": 20,
   "metadata": {},
   "outputs": [],
   "source": [
    "fechas = pd.DataFrame({'year': [1997, 1982, 1985],\n",
    "                       'month': [1, 12, 3],\n",
    "                       'day': [14, 5, 21],\n",
    "                       'hour':[17, 0, 4],\n",
    "                       'minutes':[45, 39, 28],\n",
    "                      'seconds':[11.1803, 23.74583, 3.8798]})\n"
   ]
  },
  {
   "cell_type": "code",
   "execution_count": 21,
   "metadata": {},
   "outputs": [
    {
     "data": {
      "text/html": [
       "<div>\n",
       "<style scoped>\n",
       "    .dataframe tbody tr th:only-of-type {\n",
       "        vertical-align: middle;\n",
       "    }\n",
       "\n",
       "    .dataframe tbody tr th {\n",
       "        vertical-align: top;\n",
       "    }\n",
       "\n",
       "    .dataframe thead th {\n",
       "        text-align: right;\n",
       "    }\n",
       "</style>\n",
       "<table border=\"1\" class=\"dataframe\">\n",
       "  <thead>\n",
       "    <tr style=\"text-align: right;\">\n",
       "      <th></th>\n",
       "      <th>year</th>\n",
       "      <th>month</th>\n",
       "      <th>day</th>\n",
       "      <th>hour</th>\n",
       "      <th>minutes</th>\n",
       "      <th>seconds</th>\n",
       "    </tr>\n",
       "  </thead>\n",
       "  <tbody>\n",
       "    <tr>\n",
       "      <th>0</th>\n",
       "      <td>1997</td>\n",
       "      <td>1</td>\n",
       "      <td>14</td>\n",
       "      <td>17</td>\n",
       "      <td>45</td>\n",
       "      <td>11.18030</td>\n",
       "    </tr>\n",
       "    <tr>\n",
       "      <th>1</th>\n",
       "      <td>1982</td>\n",
       "      <td>12</td>\n",
       "      <td>5</td>\n",
       "      <td>0</td>\n",
       "      <td>39</td>\n",
       "      <td>23.74583</td>\n",
       "    </tr>\n",
       "    <tr>\n",
       "      <th>2</th>\n",
       "      <td>1985</td>\n",
       "      <td>3</td>\n",
       "      <td>21</td>\n",
       "      <td>4</td>\n",
       "      <td>28</td>\n",
       "      <td>3.87980</td>\n",
       "    </tr>\n",
       "  </tbody>\n",
       "</table>\n",
       "</div>"
      ],
      "text/plain": [
       "   year  month  day  hour  minutes   seconds\n",
       "0  1997      1   14    17       45  11.18030\n",
       "1  1982     12    5     0       39  23.74583\n",
       "2  1985      3   21     4       28   3.87980"
      ]
     },
     "execution_count": 21,
     "metadata": {},
     "output_type": "execute_result"
    }
   ],
   "source": [
    "fechas"
   ]
  },
  {
   "cell_type": "code",
   "execution_count": 22,
   "metadata": {},
   "outputs": [
    {
     "data": {
      "text/plain": [
       "0   1997-01-14 17:45:11.180300\n",
       "1   1982-12-05 00:39:23.745830\n",
       "2   1985-03-21 04:28:03.879800\n",
       "dtype: datetime64[ns]"
      ]
     },
     "execution_count": 22,
     "metadata": {},
     "output_type": "execute_result"
    }
   ],
   "source": [
    "pd_fechas = pd.to_datetime(fechas)\n",
    "pd_fechas"
   ]
  },
  {
   "cell_type": "code",
   "execution_count": 23,
   "metadata": {},
   "outputs": [
    {
     "name": "stdout",
     "output_type": "stream",
     "text": [
      "<class 'pandas.core.series.Series'>\n",
      "RangeIndex: 3 entries, 0 to 2\n",
      "Series name: None\n",
      "Non-Null Count  Dtype         \n",
      "--------------  -----         \n",
      "3 non-null      datetime64[ns]\n",
      "dtypes: datetime64[ns](1)\n",
      "memory usage: 152.0 bytes\n"
     ]
    }
   ],
   "source": [
    "pd_fechas.info()"
   ]
  },
  {
   "cell_type": "code",
   "execution_count": 24,
   "metadata": {},
   "outputs": [
    {
     "data": {
      "text/plain": [
       "0    853263911180300000\n",
       "1    407896763745830000\n",
       "2    480227283879800000\n",
       "dtype: int64"
      ]
     },
     "execution_count": 24,
     "metadata": {},
     "output_type": "execute_result"
    }
   ],
   "source": [
    "pd.to_numeric(pd_fechas)"
   ]
  },
  {
   "cell_type": "code",
   "execution_count": 28,
   "metadata": {},
   "outputs": [
    {
     "data": {
      "text/html": [
       "<div>\n",
       "<style scoped>\n",
       "    .dataframe tbody tr th:only-of-type {\n",
       "        vertical-align: middle;\n",
       "    }\n",
       "\n",
       "    .dataframe tbody tr th {\n",
       "        vertical-align: top;\n",
       "    }\n",
       "\n",
       "    .dataframe thead th {\n",
       "        text-align: right;\n",
       "    }\n",
       "</style>\n",
       "<table border=\"1\" class=\"dataframe\">\n",
       "  <thead>\n",
       "    <tr style=\"text-align: right;\">\n",
       "      <th></th>\n",
       "      <th>0</th>\n",
       "      <th>1</th>\n",
       "    </tr>\n",
       "  </thead>\n",
       "  <tbody>\n",
       "    <tr>\n",
       "      <th>0</th>\n",
       "      <td>8532639111803</td>\n",
       "      <td>8532639111808</td>\n",
       "    </tr>\n",
       "    <tr>\n",
       "      <th>1</th>\n",
       "      <td>8532639111813</td>\n",
       "      <td>8532639111818</td>\n",
       "    </tr>\n",
       "    <tr>\n",
       "      <th>2</th>\n",
       "      <td>8532639111823</td>\n",
       "      <td>8532639111828</td>\n",
       "    </tr>\n",
       "    <tr>\n",
       "      <th>3</th>\n",
       "      <td>8532639111833</td>\n",
       "      <td>8532639111838</td>\n",
       "    </tr>\n",
       "    <tr>\n",
       "      <th>4</th>\n",
       "      <td>8532639111843</td>\n",
       "      <td>8532639111848</td>\n",
       "    </tr>\n",
       "    <tr>\n",
       "      <th>5</th>\n",
       "      <td>8532639111853</td>\n",
       "      <td>8532639111858</td>\n",
       "    </tr>\n",
       "    <tr>\n",
       "      <th>6</th>\n",
       "      <td>8532639111863</td>\n",
       "      <td>8532639111868</td>\n",
       "    </tr>\n",
       "    <tr>\n",
       "      <th>7</th>\n",
       "      <td>8532639111873</td>\n",
       "      <td>8532639111878</td>\n",
       "    </tr>\n",
       "    <tr>\n",
       "      <th>8</th>\n",
       "      <td>8532639111883</td>\n",
       "      <td>8532639111888</td>\n",
       "    </tr>\n",
       "    <tr>\n",
       "      <th>9</th>\n",
       "      <td>8532639111893</td>\n",
       "      <td>8532639111898</td>\n",
       "    </tr>\n",
       "  </tbody>\n",
       "</table>\n",
       "</div>"
      ],
      "text/plain": [
       "               0              1\n",
       "0  8532639111803  8532639111808\n",
       "1  8532639111813  8532639111818\n",
       "2  8532639111823  8532639111828\n",
       "3  8532639111833  8532639111838\n",
       "4  8532639111843  8532639111848\n",
       "5  8532639111853  8532639111858\n",
       "6  8532639111863  8532639111868\n",
       "7  8532639111873  8532639111878\n",
       "8  8532639111883  8532639111888\n",
       "9  8532639111893  8532639111898"
      ]
     },
     "execution_count": 28,
     "metadata": {},
     "output_type": "execute_result"
    }
   ],
   "source": [
    "datos3 = pd.DataFrame(np.arange(8532639111803, 8532639111903, 5).reshape(10,2))\n",
    "datos3"
   ]
  },
  {
   "cell_type": "code",
   "execution_count": 31,
   "metadata": {},
   "outputs": [
    {
     "data": {
      "text/plain": [
       "0   1970-01-01 02:22:12.639111808\n",
       "1   1970-01-01 02:22:12.639111818\n",
       "2   1970-01-01 02:22:12.639111828\n",
       "3   1970-01-01 02:22:12.639111838\n",
       "4   1970-01-01 02:22:12.639111848\n",
       "5   1970-01-01 02:22:12.639111858\n",
       "6   1970-01-01 02:22:12.639111868\n",
       "7   1970-01-01 02:22:12.639111878\n",
       "8   1970-01-01 02:22:12.639111888\n",
       "9   1970-01-01 02:22:12.639111898\n",
       "Name: 1, dtype: datetime64[ns]"
      ]
     },
     "execution_count": 31,
     "metadata": {},
     "output_type": "execute_result"
    }
   ],
   "source": [
    "pd.to_datetime(datos3[1])"
   ]
  },
  {
   "cell_type": "markdown",
   "metadata": {},
   "source": [
    "Operaciones básicas con dataframes"
   ]
  },
  {
   "cell_type": "code",
   "execution_count": 32,
   "metadata": {},
   "outputs": [
    {
     "data": {
      "text/html": [
       "<div>\n",
       "<style scoped>\n",
       "    .dataframe tbody tr th:only-of-type {\n",
       "        vertical-align: middle;\n",
       "    }\n",
       "\n",
       "    .dataframe tbody tr th {\n",
       "        vertical-align: top;\n",
       "    }\n",
       "\n",
       "    .dataframe thead th {\n",
       "        text-align: right;\n",
       "    }\n",
       "</style>\n",
       "<table border=\"1\" class=\"dataframe\">\n",
       "  <thead>\n",
       "    <tr style=\"text-align: right;\">\n",
       "      <th></th>\n",
       "      <th>primero</th>\n",
       "      <th>segundo</th>\n",
       "      <th>tercero</th>\n",
       "      <th>cuarto</th>\n",
       "    </tr>\n",
       "  </thead>\n",
       "  <tbody>\n",
       "    <tr>\n",
       "      <th>0</th>\n",
       "      <td>0</td>\n",
       "      <td>1</td>\n",
       "      <td>2</td>\n",
       "      <td>3</td>\n",
       "    </tr>\n",
       "    <tr>\n",
       "      <th>1</th>\n",
       "      <td>4</td>\n",
       "      <td>5</td>\n",
       "      <td>6</td>\n",
       "      <td>7</td>\n",
       "    </tr>\n",
       "    <tr>\n",
       "      <th>2</th>\n",
       "      <td>8</td>\n",
       "      <td>9</td>\n",
       "      <td>10</td>\n",
       "      <td>11</td>\n",
       "    </tr>\n",
       "    <tr>\n",
       "      <th>3</th>\n",
       "      <td>12</td>\n",
       "      <td>13</td>\n",
       "      <td>14</td>\n",
       "      <td>15</td>\n",
       "    </tr>\n",
       "    <tr>\n",
       "      <th>4</th>\n",
       "      <td>16</td>\n",
       "      <td>17</td>\n",
       "      <td>18</td>\n",
       "      <td>19</td>\n",
       "    </tr>\n",
       "  </tbody>\n",
       "</table>\n",
       "</div>"
      ],
      "text/plain": [
       "   primero  segundo  tercero  cuarto\n",
       "0        0        1        2       3\n",
       "1        4        5        6       7\n",
       "2        8        9       10      11\n",
       "3       12       13       14      15\n",
       "4       16       17       18      19"
      ]
     },
     "execution_count": 32,
     "metadata": {},
     "output_type": "execute_result"
    }
   ],
   "source": [
    "datos4 = pd.DataFrame(np.arange(20).reshape(5,4), columns=['primero', 'segundo', 'tercero', 'cuarto'])\n",
    "datos4"
   ]
  },
  {
   "cell_type": "code",
   "execution_count": null,
   "metadata": {},
   "outputs": [],
   "source": []
  }
 ],
 "metadata": {
  "kernelspec": {
   "display_name": "Python 3.10.4 ('venv': venv)",
   "language": "python",
   "name": "python3"
  },
  "language_info": {
   "codemirror_mode": {
    "name": "ipython",
    "version": 3
   },
   "file_extension": ".py",
   "mimetype": "text/x-python",
   "name": "python",
   "nbconvert_exporter": "python",
   "pygments_lexer": "ipython3",
   "version": "3.10.4"
  },
  "orig_nbformat": 4,
  "vscode": {
   "interpreter": {
    "hash": "3a9d05027adac22f9b4c744f069ecb3bd3a599ae885142a5cc3a50bcbf93b267"
   }
  }
 },
 "nbformat": 4,
 "nbformat_minor": 2
}
