{
 "cells": [
  {
   "cell_type": "code",
   "execution_count": 1,
   "id": "5c9ec904",
   "metadata": {},
   "outputs": [],
   "source": [
    "import numpy as np\n",
    "from datetime import datetime\n"
   ]
  },
  {
   "cell_type": "code",
   "execution_count": 2,
   "id": "d48d9964",
   "metadata": {},
   "outputs": [
    {
     "data": {
      "text/plain": [
       "array([1, 2, 3])"
      ]
     },
     "execution_count": 2,
     "metadata": {},
     "output_type": "execute_result"
    }
   ],
   "source": [
    "arreglo = np.array((1,2,3))\n",
    "arreglo"
   ]
  },
  {
   "cell_type": "code",
   "execution_count": 3,
   "id": "945a6ca1",
   "metadata": {},
   "outputs": [
    {
     "data": {
      "text/plain": [
       "numpy.ndarray"
      ]
     },
     "execution_count": 3,
     "metadata": {},
     "output_type": "execute_result"
    }
   ],
   "source": [
    "type(arreglo)"
   ]
  },
  {
   "cell_type": "code",
   "execution_count": 4,
   "id": "61e43c95",
   "metadata": {},
   "outputs": [
    {
     "name": "stdout",
     "output_type": "stream",
     "text": [
      "valor: 1, tipo:<class 'numpy.int32'>\n",
      "valor: 2, tipo:<class 'numpy.int32'>\n",
      "valor: 3, tipo:<class 'numpy.int32'>\n"
     ]
    }
   ],
   "source": [
    "for i in arreglo:\n",
    "    print('valor: {}, tipo:{}'.format(i,type(i)))"
   ]
  },
  {
   "cell_type": "code",
   "execution_count": 5,
   "id": "a82914c9",
   "metadata": {},
   "outputs": [
    {
     "name": "stdout",
     "output_type": "stream",
     "text": [
      "[1 2 3]\n",
      "<class 'numpy.ndarray'>\n",
      "valor: 1, tipo:<class 'numpy.int32'>\n",
      "valor: 2, tipo:<class 'numpy.int32'>\n",
      "valor: 3, tipo:<class 'numpy.int32'>\n"
     ]
    }
   ],
   "source": [
    "arreglo = np.array((1,2,3))\n",
    "print(arreglo)\n",
    "print(type(arreglo))\n",
    "for i in arreglo:\n",
    "    print('valor: {}, tipo:{}'.format(i,type(i)))"
   ]
  },
  {
   "cell_type": "code",
   "execution_count": 6,
   "id": "207a2260",
   "metadata": {},
   "outputs": [
    {
     "name": "stdout",
     "output_type": "stream",
     "text": [
      "valor: d, tipo:<class 'str'>\n",
      "valor: 3, tipo:<class 'int'>\n",
      "valor: (12, 6, True), tipo:<class 'tuple'>\n"
     ]
    }
   ],
   "source": [
    "arreglo = np.array(['d', 3 , (12, 6, True)], dtype=object)\n",
    "for i in arreglo:\n",
    "    print('valor: {}, tipo:{}'.format(i,type(i)))"
   ]
  },
  {
   "cell_type": "markdown",
   "id": "56cc3995",
   "metadata": {},
   "source": [
    "### El atributo ```shape```.\n",
    "\n",
    "Los arreglos cuentan con el atributo ```shape```, el cual describe el número de elementos que contiene cada dimensión del arreglo.\n",
    "\n",
    "El valor de ```shape``` es un objeto tipo tuple que contiene una sucesión de números.\n",
    "\n",
    "```\n",
    "(<n1>, <n2>, <n3> ... <nm>)\n",
    "```\n",
    "\n",
    "* Donde ```<n1>``` corresponde al número de elementos en la primera dimensión,  ```<n2>``` corresponde al número de elementos en la segunda dimensión y así sucesivamente hasta ```<nm>``` , la cual corrersponde al número de elementos de la dimensión ```m```.\n"
   ]
  },
  {
   "cell_type": "code",
   "execution_count": 7,
   "id": "0e1b2646",
   "metadata": {},
   "outputs": [
    {
     "name": "stdout",
     "output_type": "stream",
     "text": [
      "1\n",
      "(3,)\n",
      "3\n"
     ]
    }
   ],
   "source": [
    "arreglo = np.array((1,2,3))\n",
    "print(arreglo.ndim) #NUmero de dimesiones\n",
    "print(arreglo.shape) #Numero de elementos en cada dimension\n",
    "print(arreglo.size) #Numero total de elementos en el arreglo"
   ]
  },
  {
   "cell_type": "code",
   "execution_count": 8,
   "id": "cf62f60f",
   "metadata": {},
   "outputs": [
    {
     "name": "stdout",
     "output_type": "stream",
     "text": [
      "2\n",
      "(2, 3)\n",
      "6\n"
     ]
    }
   ],
   "source": [
    "#Arreglo bidimensional\n",
    "arreglo = np.array([[1, 2, 3],\n",
    "                    [4, 5, 6]])\n",
    "print(arreglo.ndim) #NUmero de dimesiones\n",
    "print(arreglo.shape) #Numero de elementos en cada dimension\n",
    "print(arreglo.size) #Numero total de elementos en el arreglo"
   ]
  },
  {
   "cell_type": "code",
   "execution_count": 9,
   "id": "a08c13de",
   "metadata": {},
   "outputs": [
    {
     "name": "stdout",
     "output_type": "stream",
     "text": [
      "3\n",
      "(2, 2, 2)\n",
      "8\n"
     ]
    }
   ],
   "source": [
    "#Arreglo tridimesional\n",
    "arreglo = np.array([[[1, 2], [3, 4]],\n",
    "                    [[5, 6], [7, 8]]])\n",
    "print(arreglo.ndim) #Numero de dimesiones\n",
    "print(arreglo.shape) #Numero de elementos en cada dimension\n",
    "print(arreglo.size) #Numero total de elementos en el arreglo"
   ]
  },
  {
   "cell_type": "code",
   "execution_count": 10,
   "id": "5e82a7d0",
   "metadata": {},
   "outputs": [
    {
     "data": {
      "text/plain": [
       "array([[1, 2],\n",
       "       [3, 4]])"
      ]
     },
     "execution_count": 10,
     "metadata": {},
     "output_type": "execute_result"
    }
   ],
   "source": [
    "np.array(((1, 2), (3, 4)))\n",
    "#np.array(((1, 2), (3, 4))).shape"
   ]
  },
  {
   "cell_type": "code",
   "execution_count": 11,
   "id": "76e29bdc",
   "metadata": {},
   "outputs": [
    {
     "data": {
      "text/plain": [
       "dtype('int32')"
      ]
     },
     "execution_count": 11,
     "metadata": {},
     "output_type": "execute_result"
    }
   ],
   "source": [
    "#Tipo por default\n",
    "np.array(((1, 2), (3, 4))).dtype"
   ]
  },
  {
   "cell_type": "code",
   "execution_count": 12,
   "id": "b7bb1114",
   "metadata": {},
   "outputs": [
    {
     "data": {
      "text/plain": [
       "array([[255,   2],\n",
       "       [  3,   4]], dtype=uint8)"
      ]
     },
     "execution_count": 12,
     "metadata": {},
     "output_type": "execute_result"
    }
   ],
   "source": [
    "np.array(((-1, 2), (3, 4)), dtype = np.uint8)"
   ]
  },
  {
   "cell_type": "code",
   "execution_count": 13,
   "id": "206d31dd",
   "metadata": {},
   "outputs": [
    {
     "data": {
      "text/plain": [
       "array([[18446744073709551615,                    2],\n",
       "       [                   3,                    4]], dtype=uint64)"
      ]
     },
     "execution_count": 13,
     "metadata": {},
     "output_type": "execute_result"
    }
   ],
   "source": [
    "np.array(((-1, 2), (3, 4)), dtype = np.uint64)"
   ]
  },
  {
   "cell_type": "code",
   "execution_count": 14,
   "id": "58675c0b",
   "metadata": {},
   "outputs": [
    {
     "name": "stdout",
     "output_type": "stream",
     "text": [
      "[[  0.  +2.56000000e+01j  11.24+0.00000000e+00j]\n",
      " [-21.89-1.57021744e+07j   0.  +0.00000000e+00j]]\n",
      "complex128\n"
     ]
    }
   ],
   "source": [
    "#Tipos complejos \n",
    "complejo=np.array([[25.6j, 11.24],\n",
    "                [-21.890-15702174.43j, 0]])\n",
    "print(complejo)\n",
    "print(complejo.dtype)"
   ]
  },
  {
   "cell_type": "code",
   "execution_count": 15,
   "id": "303dfa64",
   "metadata": {},
   "outputs": [
    {
     "data": {
      "text/plain": [
       "array([['1', 'Hola'],\n",
       "       ['False', '0']], dtype='<U11')"
      ]
     },
     "execution_count": 15,
     "metadata": {},
     "output_type": "execute_result"
    }
   ],
   "source": [
    "np.array(((1,'Hola'),(False,0)))"
   ]
  },
  {
   "cell_type": "code",
   "execution_count": 16,
   "id": "511c1f90",
   "metadata": {},
   "outputs": [
    {
     "data": {
      "text/plain": [
       "array([[ True,  True],\n",
       "       [False, False]])"
      ]
     },
     "execution_count": 16,
     "metadata": {},
     "output_type": "execute_result"
    }
   ],
   "source": [
    "np.array(((1,'Hola'),(False,0)), dtype = np.bool_)"
   ]
  },
  {
   "cell_type": "code",
   "execution_count": 17,
   "id": "893da0ba",
   "metadata": {},
   "outputs": [
    {
     "data": {
      "text/plain": [
       "array([['Hugo', 'Paco'],\n",
       "       ['Luis Ignacio', 'Donald']], dtype='<U12')"
      ]
     },
     "execution_count": 17,
     "metadata": {},
     "output_type": "execute_result"
    }
   ],
   "source": [
    "#Tipo cadena\n",
    "np.array((['Hugo', 'Paco'],['Luis Ignacio', 'Donald']))"
   ]
  },
  {
   "cell_type": "code",
   "execution_count": 18,
   "id": "9df6cf0e",
   "metadata": {},
   "outputs": [
    {
     "data": {
      "text/plain": [
       "array([[b'Hugo', b'Paco'],\n",
       "       [b'Luis Ignacio', b'Donald']], dtype='|S12')"
      ]
     },
     "execution_count": 18,
     "metadata": {},
     "output_type": "execute_result"
    }
   ],
   "source": [
    "np.array((['Hugo', 'Paco'],['Luis Ignacio', 'Donald']), dtype = np.string_)\n"
   ]
  },
  {
   "cell_type": "code",
   "execution_count": 19,
   "id": "ecd67039",
   "metadata": {},
   "outputs": [
    {
     "data": {
      "text/plain": [
       "array([['2019-08-25T23:59:45.231000', '2020-07-23T00:00:00.000000'],\n",
       "       ['2018-12-22T00:00:00.000000', '2019-03-01T11:25:00.000000']],\n",
       "      dtype='datetime64[us]')"
      ]
     },
     "execution_count": 19,
     "metadata": {},
     "output_type": "execute_result"
    }
   ],
   "source": [
    "#Trabajo con fechas\n",
    "fechas = np.array([[np.datetime64(\"2019-08-25T23:59:45.231\"), \n",
    "                   np.datetime64(\"2020-07-23\")],\n",
    "                   [np.datetime64(datetime(year=2018, month=12, day=22)),\n",
    "                   np.datetime64(\"2019-03-01T11:25\")]])\n",
    "fechas"
   ]
  },
  {
   "cell_type": "code",
   "execution_count": 20,
   "id": "5e7a6c4e",
   "metadata": {},
   "outputs": [
    {
     "data": {
      "text/plain": [
       "array([[ 89716002309591,  61031187540591],\n",
       "       [111056787540591, 105054087540591]], dtype='timedelta64[us]')"
      ]
     },
     "execution_count": 20,
     "metadata": {},
     "output_type": "execute_result"
    }
   ],
   "source": [
    "#deltatiem los segundos en un lapso de tiempo\n",
    "np.datetime64(datetime.now()) - fechas"
   ]
  },
  {
   "cell_type": "code",
   "execution_count": 21,
   "id": "79e7383f",
   "metadata": {},
   "outputs": [
    {
     "name": "stdout",
     "output_type": "stream",
     "text": [
      "[[[101 202]\n",
      "  [103 204]]\n",
      "\n",
      " [[105 206]\n",
      "  [107 208]]]\n",
      "\n",
      "[[[101 202]\n",
      "  [303 404]]\n",
      "\n",
      " [[505 606]\n",
      "  [707 808]]]\n",
      "\n",
      "[[[ 100  400]\n",
      "  [ 300  800]]\n",
      "\n",
      " [[ 500 1200]\n",
      "  [ 700 1600]]]\n"
     ]
    }
   ],
   "source": [
    "a1 = np.array([[[1, 2], [3, 4]],\n",
    "                [[5, 6], [7, 8]]])\n",
    "\n",
    "a2 = np.array([[[10, 20], [30, 40]],\n",
    "                [[50, 60], [70, 80]]])\n",
    "\n",
    "\n",
    "a2 = np.array((100,200))\n",
    "\n",
    "print(a1+a2)\n",
    "print('')\n",
    "print(a1*101)\n",
    "print('')\n",
    "print(a1*a2)"
   ]
  },
  {
   "cell_type": "code",
   "execution_count": 22,
   "id": "87fa8d7f",
   "metadata": {},
   "outputs": [
    {
     "data": {
      "text/plain": [
       "array([[8.48798316e-312, 1.69759663e-311],\n",
       "       [2.54639495e-311, 3.39519327e-311]])"
      ]
     },
     "execution_count": 22,
     "metadata": {},
     "output_type": "execute_result"
    }
   ],
   "source": [
    "# ndarray regresa un arreglo con valores no definidos cercanos a 0\n",
    "np.ndarray((2,2), dtype=float)"
   ]
  },
  {
   "cell_type": "code",
   "execution_count": 23,
   "id": "cb28be75",
   "metadata": {},
   "outputs": [
    {
     "data": {
      "text/plain": [
       "array([['', ''],\n",
       "       ['', '']], dtype='>U10')"
      ]
     },
     "execution_count": 23,
     "metadata": {},
     "output_type": "execute_result"
    }
   ],
   "source": [
    "np.ndarray((2,2), dtype='>U10')"
   ]
  },
  {
   "cell_type": "code",
   "execution_count": 24,
   "id": "a12584aa",
   "metadata": {},
   "outputs": [
    {
     "data": {
      "text/plain": [
       "array([[[[9.24410625e-312, 9.24411156e-312, 9.24416256e-312,\n",
       "          9.24411152e-312, 0.00000000e+000,             nan],\n",
       "         [            nan, 0.00000000e+000, 6.92541988e-255,\n",
       "          0.00000000e+000, 4.44659081e-323, 9.24416256e-312],\n",
       "         [9.24411153e-312,             nan, 0.00000000e+000,\n",
       "                      nan, 0.00000000e+000, 9.23068169e-312]],\n",
       "\n",
       "        [[3.55727265e-322, 5.43472210e-323, 9.24416256e-312,\n",
       "          9.24411154e-312, 9.88131292e-324, 4.94065646e-323],\n",
       "         [            nan, 0.00000000e+000, 9.23068169e-312,\n",
       "          7.11454530e-322, 5.43472210e-323, 9.24416256e-312],\n",
       "         [9.24411154e-312,             nan, 1.28457068e-322,\n",
       "                      nan, 0.00000000e+000, 4.94065646e-324]],\n",
       "\n",
       "        [[1.06718180e-321, 5.43472210e-323, 9.24416256e-312,\n",
       "          9.24411154e-312, 4.94065646e-323, 1.28457068e-322],\n",
       "         [            nan, 0.00000000e+000, 9.23068169e-312,\n",
       "          1.42290906e-321, 5.43472210e-323, 9.24416256e-312],\n",
       "         [9.24411154e-312, 0.00000000e+000, 9.88131292e-323,\n",
       "                      nan, 9.24430784e-312, 9.23068169e-312]],\n",
       "\n",
       "        [[1.77863633e-321, 3.45845952e-323, 9.24416256e-312,\n",
       "          9.24411154e-312, 0.00000000e+000, 1.28457068e-322],\n",
       "         [            nan, 9.24430784e-312, 4.94065646e-324,\n",
       "          9.24416256e-312, 0.00000000e+000, 0.00000000e+000],\n",
       "         [0.00000000e+000, 0.00000000e+000, 0.00000000e+000,\n",
       "          0.00000000e+000, 0.00000000e+000, 0.00000000e+000]],\n",
       "\n",
       "        [[0.00000000e+000, 9.24416256e-312, 0.00000000e+000,\n",
       "          0.00000000e+000, 0.00000000e+000, 0.00000000e+000],\n",
       "         [0.00000000e+000, 0.00000000e+000, 0.00000000e+000,\n",
       "          0.00000000e+000, 0.00000000e+000, 0.00000000e+000],\n",
       "         [0.00000000e+000, 0.00000000e+000, 0.00000000e+000,\n",
       "          0.00000000e+000, 0.00000000e+000, 9.24416256e-312]]],\n",
       "\n",
       "\n",
       "       [[[0.00000000e+000, 2.13436359e-321, 9.88131292e-324,\n",
       "          9.24416256e-312, 9.24411154e-312, 0.00000000e+000],\n",
       "         [1.28457068e-322,             nan, 0.00000000e+000,\n",
       "          4.94065646e-324, 3.59679790e-321, 4.44659081e-323],\n",
       "         [9.24416256e-312, 9.24411154e-312, 4.94065646e-324,\n",
       "          1.28457068e-322,             nan, 9.24430784e-312]],\n",
       "\n",
       "        [[4.94065646e-324, 9.24416256e-312, 0.00000000e+000,\n",
       "          0.00000000e+000, 0.00000000e+000, 0.00000000e+000],\n",
       "         [0.00000000e+000, 0.00000000e+000, 0.00000000e+000,\n",
       "          0.00000000e+000, 0.00000000e+000, 9.24416256e-312],\n",
       "         [0.00000000e+000, 0.00000000e+000, 0.00000000e+000,\n",
       "          0.00000000e+000, 0.00000000e+000, 0.00000000e+000]],\n",
       "\n",
       "        [[0.00000000e+000, 0.00000000e+000, 0.00000000e+000,\n",
       "          0.00000000e+000, 0.00000000e+000, 0.00000000e+000],\n",
       "         [0.00000000e+000, 0.00000000e+000, 0.00000000e+000,\n",
       "          9.24416256e-312, 9.24416256e-312, 3.95252517e-321],\n",
       "         [9.88131292e-324, 9.24416256e-312, 9.24411154e-312,\n",
       "          0.00000000e+000, 1.28457068e-322,             nan]],\n",
       "\n",
       "        [[9.24416256e-312, 4.94065646e-324, 5.41495948e-321,\n",
       "          4.44659081e-323, 9.24416256e-312, 9.24411154e-312],\n",
       "         [9.88131292e-324, 1.28457068e-322,             nan,\n",
       "          9.24430784e-312, 9.23068169e-312, 5.77068674e-321],\n",
       "         [1.48219694e-323, 9.24416256e-312, 9.24411156e-312,\n",
       "          0.00000000e+000, 0.00000000e+000, 0.00000000e+000]],\n",
       "\n",
       "        [[0.00000000e+000, 4.94065646e-324, 0.00000000e+000,\n",
       "          9.24416256e-312, 0.00000000e+000, 0.00000000e+000],\n",
       "         [0.00000000e+000, 0.00000000e+000, 0.00000000e+000,\n",
       "          0.00000000e+000, 0.00000000e+000, 0.00000000e+000],\n",
       "         [0.00000000e+000, 0.00000000e+000, 0.00000000e+000,\n",
       "          0.00000000e+000, 0.00000000e+000, 0.00000000e+000]]]])"
      ]
     },
     "execution_count": 24,
     "metadata": {},
     "output_type": "execute_result"
    }
   ],
   "source": [
    "np.ndarray((2,5,3,6))"
   ]
  },
  {
   "cell_type": "code",
   "execution_count": 25,
   "id": "d274891f",
   "metadata": {},
   "outputs": [
    {
     "data": {
      "text/plain": [
       "array([[[[1., 1., 1., 1., 1., 1.],\n",
       "         [1., 1., 1., 1., 1., 1.],\n",
       "         [1., 1., 1., 1., 1., 1.]],\n",
       "\n",
       "        [[1., 1., 1., 1., 1., 1.],\n",
       "         [1., 1., 1., 1., 1., 1.],\n",
       "         [1., 1., 1., 1., 1., 1.]],\n",
       "\n",
       "        [[1., 1., 1., 1., 1., 1.],\n",
       "         [1., 1., 1., 1., 1., 1.],\n",
       "         [1., 1., 1., 1., 1., 1.]],\n",
       "\n",
       "        [[1., 1., 1., 1., 1., 1.],\n",
       "         [1., 1., 1., 1., 1., 1.],\n",
       "         [1., 1., 1., 1., 1., 1.]],\n",
       "\n",
       "        [[1., 1., 1., 1., 1., 1.],\n",
       "         [1., 1., 1., 1., 1., 1.],\n",
       "         [1., 1., 1., 1., 1., 1.]]],\n",
       "\n",
       "\n",
       "       [[[1., 1., 1., 1., 1., 1.],\n",
       "         [1., 1., 1., 1., 1., 1.],\n",
       "         [1., 1., 1., 1., 1., 1.]],\n",
       "\n",
       "        [[1., 1., 1., 1., 1., 1.],\n",
       "         [1., 1., 1., 1., 1., 1.],\n",
       "         [1., 1., 1., 1., 1., 1.]],\n",
       "\n",
       "        [[1., 1., 1., 1., 1., 1.],\n",
       "         [1., 1., 1., 1., 1., 1.],\n",
       "         [1., 1., 1., 1., 1., 1.]],\n",
       "\n",
       "        [[1., 1., 1., 1., 1., 1.],\n",
       "         [1., 1., 1., 1., 1., 1.],\n",
       "         [1., 1., 1., 1., 1., 1.]],\n",
       "\n",
       "        [[1., 1., 1., 1., 1., 1.],\n",
       "         [1., 1., 1., 1., 1., 1.],\n",
       "         [1., 1., 1., 1., 1., 1.]]]])"
      ]
     },
     "execution_count": 25,
     "metadata": {},
     "output_type": "execute_result"
    }
   ],
   "source": [
    "np.ones((2,5,3,6))"
   ]
  },
  {
   "cell_type": "code",
   "execution_count": 26,
   "id": "f462b21b",
   "metadata": {},
   "outputs": [
    {
     "data": {
      "text/plain": [
       "array([[[[0., 0., 0., 0., 0., 0.],\n",
       "         [0., 0., 0., 0., 0., 0.],\n",
       "         [0., 0., 0., 0., 0., 0.]],\n",
       "\n",
       "        [[0., 0., 0., 0., 0., 0.],\n",
       "         [0., 0., 0., 0., 0., 0.],\n",
       "         [0., 0., 0., 0., 0., 0.]],\n",
       "\n",
       "        [[0., 0., 0., 0., 0., 0.],\n",
       "         [0., 0., 0., 0., 0., 0.],\n",
       "         [0., 0., 0., 0., 0., 0.]],\n",
       "\n",
       "        [[0., 0., 0., 0., 0., 0.],\n",
       "         [0., 0., 0., 0., 0., 0.],\n",
       "         [0., 0., 0., 0., 0., 0.]],\n",
       "\n",
       "        [[0., 0., 0., 0., 0., 0.],\n",
       "         [0., 0., 0., 0., 0., 0.],\n",
       "         [0., 0., 0., 0., 0., 0.]]],\n",
       "\n",
       "\n",
       "       [[[0., 0., 0., 0., 0., 0.],\n",
       "         [0., 0., 0., 0., 0., 0.],\n",
       "         [0., 0., 0., 0., 0., 0.]],\n",
       "\n",
       "        [[0., 0., 0., 0., 0., 0.],\n",
       "         [0., 0., 0., 0., 0., 0.],\n",
       "         [0., 0., 0., 0., 0., 0.]],\n",
       "\n",
       "        [[0., 0., 0., 0., 0., 0.],\n",
       "         [0., 0., 0., 0., 0., 0.],\n",
       "         [0., 0., 0., 0., 0., 0.]],\n",
       "\n",
       "        [[0., 0., 0., 0., 0., 0.],\n",
       "         [0., 0., 0., 0., 0., 0.],\n",
       "         [0., 0., 0., 0., 0., 0.]],\n",
       "\n",
       "        [[0., 0., 0., 0., 0., 0.],\n",
       "         [0., 0., 0., 0., 0., 0.],\n",
       "         [0., 0., 0., 0., 0., 0.]]]])"
      ]
     },
     "execution_count": 26,
     "metadata": {},
     "output_type": "execute_result"
    }
   ],
   "source": [
    "np.zeros((2,5,3,6))"
   ]
  },
  {
   "cell_type": "code",
   "execution_count": 27,
   "id": "4cf9c45d",
   "metadata": {},
   "outputs": [
    {
     "data": {
      "text/plain": [
       "array([[[False, False],\n",
       "        [False, False]],\n",
       "\n",
       "       [[False, False],\n",
       "        [False, False]]])"
      ]
     },
     "execution_count": 27,
     "metadata": {},
     "output_type": "execute_result"
    }
   ],
   "source": [
    "np.zeros((2,2,2),dtype=bool)"
   ]
  },
  {
   "cell_type": "code",
   "execution_count": 28,
   "id": "64abc88f",
   "metadata": {},
   "outputs": [
    {
     "data": {
      "text/plain": [
       "array([[[ True,  True],\n",
       "        [ True,  True]],\n",
       "\n",
       "       [[ True,  True],\n",
       "        [ True,  True]]])"
      ]
     },
     "execution_count": 28,
     "metadata": {},
     "output_type": "execute_result"
    }
   ],
   "source": [
    "np.ones((2,2,2),dtype=bool)"
   ]
  },
  {
   "cell_type": "code",
   "execution_count": 29,
   "id": "3e2a53ab",
   "metadata": {},
   "outputs": [
    {
     "data": {
      "text/plain": [
       "array([[[48,  0],\n",
       "        [ 0,  0]],\n",
       "\n",
       "       [[ 0,  0],\n",
       "        [ 0,  0]]], dtype=int8)"
      ]
     },
     "execution_count": 29,
     "metadata": {},
     "output_type": "execute_result"
    }
   ],
   "source": [
    "#empty genera arreglos con valores no inicializados\n",
    "np.empty((2,2,2), dtype = np.int8)"
   ]
  },
  {
   "cell_type": "code",
   "execution_count": 30,
   "id": "e470e6f0",
   "metadata": {},
   "outputs": [
    {
     "data": {
      "text/plain": [
       "array([ 6,  7,  8,  9, 10, 11, 12, 13, 14, 15, 16, 17, 18, 19, 20])"
      ]
     },
     "execution_count": 30,
     "metadata": {},
     "output_type": "execute_result"
    }
   ],
   "source": [
    "# arange genera un arreglo unidimensional con valores enteros en un rango\n",
    "np.arange(6,21)"
   ]
  },
  {
   "cell_type": "code",
   "execution_count": 31,
   "id": "ab66464d",
   "metadata": {},
   "outputs": [
    {
     "data": {
      "text/plain": [
       "array([-30, -26, -22, -18, -14, -10,  -6,  -2,   2,   6])"
      ]
     },
     "execution_count": 31,
     "metadata": {},
     "output_type": "execute_result"
    }
   ],
   "source": [
    "# arange(limite inferior, limite superior, salto)\n",
    "np.arange(-30,10,4)"
   ]
  },
  {
   "cell_type": "code",
   "execution_count": 32,
   "id": "77506800",
   "metadata": {},
   "outputs": [
    {
     "data": {
      "text/plain": [
       "array([0.        , 0.16326531, 0.32653061, 0.48979592, 0.65306122,\n",
       "       0.81632653, 0.97959184, 1.14285714, 1.30612245, 1.46938776,\n",
       "       1.63265306, 1.79591837, 1.95918367, 2.12244898, 2.28571429,\n",
       "       2.44897959, 2.6122449 , 2.7755102 , 2.93877551, 3.10204082,\n",
       "       3.26530612, 3.42857143, 3.59183673, 3.75510204, 3.91836735,\n",
       "       4.08163265, 4.24489796, 4.40816327, 4.57142857, 4.73469388,\n",
       "       4.89795918, 5.06122449, 5.2244898 , 5.3877551 , 5.55102041,\n",
       "       5.71428571, 5.87755102, 6.04081633, 6.20408163, 6.36734694,\n",
       "       6.53061224, 6.69387755, 6.85714286, 7.02040816, 7.18367347,\n",
       "       7.34693878, 7.51020408, 7.67346939, 7.83673469, 8.        ])"
      ]
     },
     "execution_count": 32,
     "metadata": {},
     "output_type": "execute_result"
    }
   ],
   "source": [
    "#linspace genera un arreglo unidimensional con una secuencia lineal de valores dentro de un rango\n",
    "np.linspace(0,8)"
   ]
  },
  {
   "cell_type": "code",
   "execution_count": 33,
   "id": "5ad20c34",
   "metadata": {},
   "outputs": [
    {
     "data": {
      "text/plain": [
       "array([0.        , 0.08080808, 0.16161616, 0.24242424, 0.32323232,\n",
       "       0.4040404 , 0.48484848, 0.56565657, 0.64646465, 0.72727273,\n",
       "       0.80808081, 0.88888889, 0.96969697, 1.05050505, 1.13131313,\n",
       "       1.21212121, 1.29292929, 1.37373737, 1.45454545, 1.53535354,\n",
       "       1.61616162, 1.6969697 , 1.77777778, 1.85858586, 1.93939394,\n",
       "       2.02020202, 2.1010101 , 2.18181818, 2.26262626, 2.34343434,\n",
       "       2.42424242, 2.50505051, 2.58585859, 2.66666667, 2.74747475,\n",
       "       2.82828283, 2.90909091, 2.98989899, 3.07070707, 3.15151515,\n",
       "       3.23232323, 3.31313131, 3.39393939, 3.47474747, 3.55555556,\n",
       "       3.63636364, 3.71717172, 3.7979798 , 3.87878788, 3.95959596,\n",
       "       4.04040404, 4.12121212, 4.2020202 , 4.28282828, 4.36363636,\n",
       "       4.44444444, 4.52525253, 4.60606061, 4.68686869, 4.76767677,\n",
       "       4.84848485, 4.92929293, 5.01010101, 5.09090909, 5.17171717,\n",
       "       5.25252525, 5.33333333, 5.41414141, 5.49494949, 5.57575758,\n",
       "       5.65656566, 5.73737374, 5.81818182, 5.8989899 , 5.97979798,\n",
       "       6.06060606, 6.14141414, 6.22222222, 6.3030303 , 6.38383838,\n",
       "       6.46464646, 6.54545455, 6.62626263, 6.70707071, 6.78787879,\n",
       "       6.86868687, 6.94949495, 7.03030303, 7.11111111, 7.19191919,\n",
       "       7.27272727, 7.35353535, 7.43434343, 7.51515152, 7.5959596 ,\n",
       "       7.67676768, 7.75757576, 7.83838384, 7.91919192, 8.        ])"
      ]
     },
     "execution_count": 33,
     "metadata": {},
     "output_type": "execute_result"
    }
   ],
   "source": [
    "np.linspace(0,8, num=100)"
   ]
  },
  {
   "cell_type": "code",
   "execution_count": 34,
   "id": "32964ba1",
   "metadata": {},
   "outputs": [],
   "source": [
    "arreglo = np.linspace(0,8, num=100)\n",
    "np.savetxt('arreglo.txt', arreglo)"
   ]
  },
  {
   "cell_type": "code",
   "execution_count": 35,
   "id": "91deadc0",
   "metadata": {},
   "outputs": [],
   "source": [
    "#Escribir en un archivo binario\n",
    "np.save('arreglo', arreglo)"
   ]
  },
  {
   "cell_type": "code",
   "execution_count": 36,
   "id": "9c8e7f4e",
   "metadata": {},
   "outputs": [
    {
     "data": {
      "text/plain": [
       "array([0.        , 0.08080808, 0.16161616, 0.24242424, 0.32323232,\n",
       "       0.4040404 , 0.48484848, 0.56565657, 0.64646465, 0.72727273,\n",
       "       0.80808081, 0.88888889, 0.96969697, 1.05050505, 1.13131313,\n",
       "       1.21212121, 1.29292929, 1.37373737, 1.45454545, 1.53535354,\n",
       "       1.61616162, 1.6969697 , 1.77777778, 1.85858586, 1.93939394,\n",
       "       2.02020202, 2.1010101 , 2.18181818, 2.26262626, 2.34343434,\n",
       "       2.42424242, 2.50505051, 2.58585859, 2.66666667, 2.74747475,\n",
       "       2.82828283, 2.90909091, 2.98989899, 3.07070707, 3.15151515,\n",
       "       3.23232323, 3.31313131, 3.39393939, 3.47474747, 3.55555556,\n",
       "       3.63636364, 3.71717172, 3.7979798 , 3.87878788, 3.95959596,\n",
       "       4.04040404, 4.12121212, 4.2020202 , 4.28282828, 4.36363636,\n",
       "       4.44444444, 4.52525253, 4.60606061, 4.68686869, 4.76767677,\n",
       "       4.84848485, 4.92929293, 5.01010101, 5.09090909, 5.17171717,\n",
       "       5.25252525, 5.33333333, 5.41414141, 5.49494949, 5.57575758,\n",
       "       5.65656566, 5.73737374, 5.81818182, 5.8989899 , 5.97979798,\n",
       "       6.06060606, 6.14141414, 6.22222222, 6.3030303 , 6.38383838,\n",
       "       6.46464646, 6.54545455, 6.62626263, 6.70707071, 6.78787879,\n",
       "       6.86868687, 6.94949495, 7.03030303, 7.11111111, 7.19191919,\n",
       "       7.27272727, 7.35353535, 7.43434343, 7.51515152, 7.5959596 ,\n",
       "       7.67676768, 7.75757576, 7.83838384, 7.91919192, 8.        ])"
      ]
     },
     "execution_count": 36,
     "metadata": {},
     "output_type": "execute_result"
    }
   ],
   "source": [
    "#Leer archivo\n",
    "arreglo2 = np.loadtxt('arreglo.txt')\n",
    "arreglo2"
   ]
  },
  {
   "cell_type": "code",
   "execution_count": 37,
   "id": "1e00cf37",
   "metadata": {},
   "outputs": [
    {
     "name": "stdout",
     "output_type": "stream",
     "text": [
      " El volumen de la unidad C no tiene etiqueta.\n",
      " El número de serie del volumen es: A856-E4AA\n",
      "\n",
      " Directorio de C:\\Users\\Mario Alberto\\Python_Pandas\n",
      "\n",
      "28/06/2022  11:02 a. m.    <DIR>          .\n",
      "28/06/2022  11:02 a. m.    <DIR>          ..\n",
      "28/06/2022  09:10 a. m.    <DIR>          .ipynb_checkpoints\n",
      "28/01/2022  01:16 p. m.           118,573 07PandasLimpiezaDatos.ipynb\n",
      "28/01/2022  01:28 p. m.            17,119 08PandasAgrupamientos.ipynb\n",
      "26/01/2022  11:27 a. m.               520 a1\n",
      "26/01/2022  11:38 a. m.               520 a1.txt\n",
      "28/06/2022  10:20 a. m.               160 a1.txt.npy\n",
      "26/01/2022  11:45 a. m.               160 a3.npy\n",
      "26/01/2022  11:29 a. m.               102 a3.txt\n",
      "29/06/2022  09:06 a. m.               928 arreglo.npy\n",
      "29/06/2022  09:06 a. m.             2,600 arreglo.txt\n",
      "28/06/2022  10:27 a. m.               546 arreglos.npz\n",
      "27/01/2022  11:52 p. m.            26,229 Ejercicio4.ipynb\n",
      "30/01/2022  02:38 a. m.            54,095 EjercicioFinal.ipynb\n",
      "27/01/2022  01:37 p. m.            56,537 PandasLectura.ipynb\n",
      "28/06/2022  11:02 a. m.            42,520 Untitled.ipynb\n",
      "              14 archivos        320,609 bytes\n",
      "               3 dirs  42,744,066,048 bytes libres\n"
     ]
    }
   ],
   "source": [
    "%ls"
   ]
  },
  {
   "cell_type": "code",
   "execution_count": 38,
   "id": "de01b2e8",
   "metadata": {},
   "outputs": [],
   "source": [
    "np.save('a1.txt',a1)"
   ]
  },
  {
   "cell_type": "code",
   "execution_count": 39,
   "id": "69a03968",
   "metadata": {},
   "outputs": [
    {
     "data": {
      "text/plain": [
       "array([[[1, 2],\n",
       "        [3, 4]],\n",
       "\n",
       "       [[5, 6],\n",
       "        [7, 8]]])"
      ]
     },
     "execution_count": 39,
     "metadata": {},
     "output_type": "execute_result"
    }
   ],
   "source": [
    "np.load('a1.txt.npy')"
   ]
  },
  {
   "cell_type": "code",
   "execution_count": 40,
   "id": "9be34b61",
   "metadata": {},
   "outputs": [],
   "source": [
    "np.savez('arreglos',a1,a2)"
   ]
  },
  {
   "cell_type": "code",
   "execution_count": 41,
   "id": "3e904d4a",
   "metadata": {},
   "outputs": [
    {
     "data": {
      "text/plain": [
       "<numpy.lib.npyio.NpzFile at 0x1b3a30baeb0>"
      ]
     },
     "execution_count": 41,
     "metadata": {},
     "output_type": "execute_result"
    }
   ],
   "source": [
    "cargados = np.load('arreglos.npz')\n",
    "cargados"
   ]
  },
  {
   "cell_type": "code",
   "execution_count": 42,
   "id": "119298e6",
   "metadata": {},
   "outputs": [
    {
     "data": {
      "text/plain": [
       "array([[[1, 2],\n",
       "        [3, 4]],\n",
       "\n",
       "       [[5, 6],\n",
       "        [7, 8]]])"
      ]
     },
     "execution_count": 42,
     "metadata": {},
     "output_type": "execute_result"
    }
   ],
   "source": [
    "cargados['arr_0']"
   ]
  },
  {
   "cell_type": "code",
   "execution_count": 43,
   "id": "71f19867",
   "metadata": {},
   "outputs": [
    {
     "name": "stdout",
     "output_type": "stream",
     "text": [
      "arr_0 [[[1 2]\n",
      "  [3 4]]\n",
      "\n",
      " [[5 6]\n",
      "  [7 8]]]\n",
      "arr_1 [100 200]\n"
     ]
    }
   ],
   "source": [
    "with cargados as arr:\n",
    "    for i in arr:\n",
    "        print(i, arr[i])"
   ]
  },
  {
   "cell_type": "code",
   "execution_count": 44,
   "id": "187d2bec",
   "metadata": {},
   "outputs": [
    {
     "data": {
      "text/plain": [
       "array([100, 200])"
      ]
     },
     "execution_count": 44,
     "metadata": {},
     "output_type": "execute_result"
    }
   ],
   "source": [
    "with np.load('arreglos.npz') as arr:\n",
    "    ac2 = arr['arr_1']\n",
    "ac2"
   ]
  },
  {
   "cell_type": "markdown",
   "id": "e01c488b",
   "metadata": {},
   "source": [
    "# Operaciones básicas con arreglos.\n",
    "La siguiente tabla ejemplifica la conformación de las Equipos en una semana dada.\n",
    "\n",
    "||Equipo 1| Equipo 2|\n",
    "|:--:|:---:|:---:|\n",
    "|**Lunes**|Lilia, Antonio, Ricardo|Alonso, Jorge, Salvador|\n",
    "|**Martes**|Mariana, Julian, Ricardo|Arturo, Ramy, Esteban|\n",
    "|**Miércoles**|Arturo, Ricardo, Lucio|Jorge, Marco, Lilia|\n",
    "|**Jueves**|Alonso, Julian, Salvador|Ricardo, Jorge, Esteban|\n",
    "|**Viernes**|Lucio, Ramy, Joaquín|Ricardo, Marco, Lilia|\n"
   ]
  },
  {
   "cell_type": "code",
   "execution_count": 45,
   "id": "23d0bbc2",
   "metadata": {},
   "outputs": [],
   "source": [
    "# Operaciones básicas con arreglos.\n",
    "equipos = np.array([[['Lilia', 'Antonio', 'Ricardo'], ['Alonso', 'Jorge', 'Salvador']],\n",
    "                    [['Mariana', 'Julian', 'Ricardo'], ['Arturo', 'Ramy', 'Esteban']],\n",
    "                    [['Arturo', 'Ricardo', 'Lucio'], ['Jorge', 'Marco', 'Lilia']],\n",
    "                    [['Alonso', 'Julian', 'Salvador'], ['Ricardo', 'Jorge', 'Esteban']],\n",
    "                    [['Lucio', 'Ramy', 'Joaquín'], ['Ricardo', 'Marco', 'Lilia']]])\n"
   ]
  },
  {
   "cell_type": "code",
   "execution_count": 46,
   "id": "fd5a789c",
   "metadata": {},
   "outputs": [
    {
     "data": {
      "text/plain": [
       "array([[['Lilia', 'Antonio', 'Ricardo'],\n",
       "        ['Alonso', 'Jorge', 'Salvador']],\n",
       "\n",
       "       [['Mariana', 'Julian', 'Ricardo'],\n",
       "        ['Arturo', 'Ramy', 'Esteban']],\n",
       "\n",
       "       [['Arturo', 'Ricardo', 'Lucio'],\n",
       "        ['Jorge', 'Marco', 'Lilia']],\n",
       "\n",
       "       [['Alonso', 'Julian', 'Salvador'],\n",
       "        ['Ricardo', 'Jorge', 'Esteban']],\n",
       "\n",
       "       [['Lucio', 'Ramy', 'Joaquín'],\n",
       "        ['Ricardo', 'Marco', 'Lilia']]], dtype='<U8')"
      ]
     },
     "execution_count": 46,
     "metadata": {},
     "output_type": "execute_result"
    }
   ],
   "source": [
    "equipos"
   ]
  },
  {
   "cell_type": "code",
   "execution_count": 47,
   "id": "456d936a",
   "metadata": {},
   "outputs": [
    {
     "name": "stdout",
     "output_type": "stream",
     "text": [
      "3\n",
      "(5, 2, 3)\n",
      "30\n"
     ]
    }
   ],
   "source": [
    "print(equipos.ndim)\n",
    "print(equipos.shape)\n",
    "print(equipos.size)"
   ]
  },
  {
   "cell_type": "code",
   "execution_count": 48,
   "id": "b6881883",
   "metadata": {},
   "outputs": [
    {
     "data": {
      "text/plain": [
       "array([[['Mariana', 'Julian', 'Ricardo'],\n",
       "        ['Arturo', 'Ramy', 'Esteban']],\n",
       "\n",
       "       [['Arturo', 'Ricardo', 'Lucio'],\n",
       "        ['Jorge', 'Marco', 'Lilia']]], dtype='<U8')"
      ]
     },
     "execution_count": 48,
     "metadata": {},
     "output_type": "execute_result"
    }
   ],
   "source": [
    "#Slices de arreglos\n",
    "equipos[1:3]"
   ]
  },
  {
   "cell_type": "code",
   "execution_count": 49,
   "id": "a1c0afed",
   "metadata": {},
   "outputs": [
    {
     "data": {
      "text/plain": [
       "(2, 2, 3)"
      ]
     },
     "execution_count": 49,
     "metadata": {},
     "output_type": "execute_result"
    }
   ],
   "source": [
    "equipos[1:3].shape"
   ]
  },
  {
   "cell_type": "code",
   "execution_count": 50,
   "id": "2b04997b",
   "metadata": {},
   "outputs": [
    {
     "data": {
      "text/plain": [
       "array([['Arturo', 'Ramy', 'Esteban'],\n",
       "       ['Jorge', 'Marco', 'Lilia']], dtype='<U8')"
      ]
     },
     "execution_count": 50,
     "metadata": {},
     "output_type": "execute_result"
    }
   ],
   "source": [
    "#Ver el equipo 2 de los dias martes y miercoles de la semana\n",
    "equipos[1:3, 1]"
   ]
  },
  {
   "cell_type": "code",
   "execution_count": 51,
   "id": "65d6eca7",
   "metadata": {},
   "outputs": [
    {
     "data": {
      "text/plain": [
       "(2, 3)"
      ]
     },
     "execution_count": 51,
     "metadata": {},
     "output_type": "execute_result"
    }
   ],
   "source": [
    "equipos[1:3, 1].shape"
   ]
  },
  {
   "cell_type": "code",
   "execution_count": 52,
   "id": "3c604c3f",
   "metadata": {},
   "outputs": [
    {
     "data": {
      "text/plain": [
       "array([['Arturo', 'Ramy'],\n",
       "       ['Jorge', 'Marco']], dtype='<U8')"
      ]
     },
     "execution_count": 52,
     "metadata": {},
     "output_type": "execute_result"
    }
   ],
   "source": [
    "#Ver los 2 primeros integrantes del equipo 2 de los dias martes y miercoles\n",
    "equipos[1:3,1,0:2]"
   ]
  },
  {
   "cell_type": "code",
   "execution_count": 53,
   "id": "333d803c",
   "metadata": {},
   "outputs": [
    {
     "data": {
      "text/plain": [
       "(2, 2)"
      ]
     },
     "execution_count": 53,
     "metadata": {},
     "output_type": "execute_result"
    }
   ],
   "source": [
    "equipos[1:3,1,0:2].shape"
   ]
  },
  {
   "cell_type": "code",
   "execution_count": 54,
   "id": "9e3a72b4",
   "metadata": {},
   "outputs": [
    {
     "data": {
      "text/plain": [
       "array([['Ricardo'],\n",
       "       ['Ricardo'],\n",
       "       ['Lucio'],\n",
       "       ['Salvador'],\n",
       "       ['Joaquín']], dtype='<U8')"
      ]
     },
     "execution_count": 54,
     "metadata": {},
     "output_type": "execute_result"
    }
   ],
   "source": [
    "#Ver el tercer integrante del equipo 1 en todos los dias\n",
    "equipos[:,0,2:3]"
   ]
  },
  {
   "cell_type": "code",
   "execution_count": 55,
   "id": "0360265d",
   "metadata": {},
   "outputs": [
    {
     "data": {
      "text/plain": [
       "'Lilia'"
      ]
     },
     "execution_count": 55,
     "metadata": {},
     "output_type": "execute_result"
    }
   ],
   "source": [
    "equipos[4, 1, 2]"
   ]
  },
  {
   "cell_type": "code",
   "execution_count": 56,
   "id": "a47eaafe",
   "metadata": {},
   "outputs": [
    {
     "name": "stdout",
     "output_type": "stream",
     "text": [
      "<class 'numpy.str_'>\n",
      "()\n",
      "1\n"
     ]
    }
   ],
   "source": [
    "print(type(equipos[4,1,2]))\n",
    "print(equipos[4,1,2].shape)\n",
    "print(equipos[4,1,2].size)"
   ]
  },
  {
   "cell_type": "markdown",
   "id": "56c5e3da",
   "metadata": {},
   "source": [
    "# Remplazos\n",
    "|Equipo 1| Equipo 2|\n",
    ":---:|:---:|\n",
    "|Paulina, Rigo, Paul|Kenia, Miguel, Carlos|\n"
   ]
  },
  {
   "cell_type": "code",
   "execution_count": 57,
   "id": "9682ead9",
   "metadata": {},
   "outputs": [
    {
     "data": {
      "text/plain": [
       "array([['Paulina', 'Rigo', 'Paul'],\n",
       "       ['Kenia', 'Miguel', 'Carlos']], dtype='<U7')"
      ]
     },
     "execution_count": 57,
     "metadata": {},
     "output_type": "execute_result"
    }
   ],
   "source": [
    "remplazos = np.array([['Paulina', 'Rigo', 'Paul'], \n",
    "               ['Kenia', 'Miguel', 'Carlos']])\n",
    "remplazos"
   ]
  },
  {
   "cell_type": "code",
   "execution_count": 58,
   "id": "35873135",
   "metadata": {},
   "outputs": [
    {
     "data": {
      "text/plain": [
       "(2, 3)"
      ]
     },
     "execution_count": 58,
     "metadata": {},
     "output_type": "execute_result"
    }
   ],
   "source": [
    "remplazos.shape"
   ]
  },
  {
   "cell_type": "code",
   "execution_count": 59,
   "id": "518802b6",
   "metadata": {},
   "outputs": [
    {
     "data": {
      "text/plain": [
       "array([['Lucio', 'Ramy', 'Joaquín'],\n",
       "       ['Ricardo', 'Marco', 'Lilia']], dtype='<U8')"
      ]
     },
     "execution_count": 59,
     "metadata": {},
     "output_type": "execute_result"
    }
   ],
   "source": [
    "equipos[4]"
   ]
  },
  {
   "cell_type": "code",
   "execution_count": 60,
   "id": "7b08789e",
   "metadata": {},
   "outputs": [
    {
     "data": {
      "text/plain": [
       "(2, 3)"
      ]
     },
     "execution_count": 60,
     "metadata": {},
     "output_type": "execute_result"
    }
   ],
   "source": [
    "equipos[4].shape"
   ]
  },
  {
   "cell_type": "code",
   "execution_count": 61,
   "id": "d470ca73",
   "metadata": {},
   "outputs": [
    {
     "data": {
      "text/plain": [
       "array([[['Lilia', 'Antonio', 'Ricardo'],\n",
       "        ['Alonso', 'Jorge', 'Salvador']],\n",
       "\n",
       "       [['Mariana', 'Julian', 'Ricardo'],\n",
       "        ['Arturo', 'Ramy', 'Esteban']],\n",
       "\n",
       "       [['Arturo', 'Ricardo', 'Lucio'],\n",
       "        ['Jorge', 'Marco', 'Lilia']],\n",
       "\n",
       "       [['Alonso', 'Julian', 'Salvador'],\n",
       "        ['Ricardo', 'Jorge', 'Esteban']],\n",
       "\n",
       "       [['Paulina', 'Rigo', 'Paul'],\n",
       "        ['Kenia', 'Miguel', 'Carlos']]], dtype='<U8')"
      ]
     },
     "execution_count": 61,
     "metadata": {},
     "output_type": "execute_result"
    }
   ],
   "source": [
    "#Cambiar elementos de un arreglo\n",
    "equipos[4] = remplazos\n",
    "equipos"
   ]
  },
  {
   "cell_type": "code",
   "execution_count": 63,
   "id": "10771c66",
   "metadata": {},
   "outputs": [
    {
     "data": {
      "text/plain": [
       "array([[['Lilia', 'Antonio', 'Ricardo'],\n",
       "        ['Alonso', 'Jorge', 'Salvador']],\n",
       "\n",
       "       [['Mariana', 'Julian', 'Ricardo'],\n",
       "        ['Arturo', 'Ramy', 'Esteban']],\n",
       "\n",
       "       [['Julio', 'Ernesto', 'Lucio'],\n",
       "        ['Jorge', 'Marco', 'Lilia']],\n",
       "\n",
       "       [['Alonso', 'Julian', 'Salvador'],\n",
       "        ['Ricardo', 'Jorge', 'Esteban']],\n",
       "\n",
       "       [['Paulina', 'Rigo', 'Paul'],\n",
       "        ['Kenia', 'Miguel', 'Carlos']]], dtype='<U8')"
      ]
     },
     "execution_count": 63,
     "metadata": {},
     "output_type": "execute_result"
    }
   ],
   "source": [
    "#Cambiar los elementos de un arreglo\n",
    "equipos[2,0, 0:2] = ['Julio','Ernesto']\n",
    "equipos"
   ]
  },
  {
   "cell_type": "code",
   "execution_count": 65,
   "id": "9f72f0fe",
   "metadata": {},
   "outputs": [
    {
     "data": {
      "text/plain": [
       "array([[['Lilia', 'Antonio', 'Ricardo'],\n",
       "        ['Alonso', 'Jorge', 'Salvador']],\n",
       "\n",
       "       [['Mariana', 'Julian', 'Ricardo'],\n",
       "        ['Arturo', 'Ramy', 'Esteban']],\n",
       "\n",
       "       [['Julio', 'Ernesto', 'Lucio'],\n",
       "        ['Jorge', 'Marco', 'Lilia']],\n",
       "\n",
       "       [['Alonso', 'Julian', 'Salvador'],\n",
       "        ['Ricardo', 'Jorge', 'Esmerald']],\n",
       "\n",
       "       [['Paulina', 'Rigo', 'Paul'],\n",
       "        ['Kenia', 'Miguel', 'Carlos']]], dtype='<U8')"
      ]
     },
     "execution_count": 65,
     "metadata": {},
     "output_type": "execute_result"
    }
   ],
   "source": [
    "#Cambiar un solo elemento\n",
    "equipos[3,1,2] = 'Esmeralda'\n",
    "equipos"
   ]
  },
  {
   "cell_type": "code",
   "execution_count": 72,
   "id": "ffa7018e",
   "metadata": {},
   "outputs": [
    {
     "name": "stdout",
     "output_type": "stream",
     "text": [
      "[2 0 3]\n",
      "(3, 2, 3)\n"
     ]
    }
   ],
   "source": [
    "#Es posible identificar elementos de una dimension usando arreglos para indices\n",
    "idx_1 = np.array([2,0,3])\n",
    "print(idx_1)\n",
    "print(equipos[idx_1].shape)"
   ]
  },
  {
   "cell_type": "code",
   "execution_count": 71,
   "id": "02948a50",
   "metadata": {},
   "outputs": [
    {
     "name": "stdout",
     "output_type": "stream",
     "text": [
      "[[0 3]\n",
      " [1 4]]\n",
      "[[[['Lilia' 'Antonio' 'Ricardo']\n",
      "   ['Alonso' 'Jorge' 'Salvador']]\n",
      "\n",
      "  [['Alonso' 'Julian' 'Salvador']\n",
      "   ['Ricardo' 'Jorge' 'Esmerald']]]\n",
      "\n",
      "\n",
      " [[['Mariana' 'Julian' 'Ricardo']\n",
      "   ['Arturo' 'Ramy' 'Esteban']]\n",
      "\n",
      "  [['Paulina' 'Rigo' 'Paul']\n",
      "   ['Kenia' 'Miguel' 'Carlos']]]]\n"
     ]
    }
   ],
   "source": [
    "idx_2 = np.array([[0,3], [1,4]])\n",
    "print(idx_2)\n",
    "print(equipos[idx_2])"
   ]
  },
  {
   "cell_type": "code",
   "execution_count": 74,
   "id": "a7d3147f",
   "metadata": {},
   "outputs": [
    {
     "data": {
      "text/plain": [
       "array([['Lilia', 'Antonio', 'Ricardo'],\n",
       "       ['Jorge', 'Marco', 'Lilia']], dtype='<U8')"
      ]
     },
     "execution_count": 74,
     "metadata": {},
     "output_type": "execute_result"
    }
   ],
   "source": [
    "# Uso de multiples arreglos como indices\n",
    "idx_x = np.array([0,2]) #Lunes y miercoles\n",
    "idx_y = np.array([0,1]) #Equipo 1 y 2\n",
    "equipos[idx_x,idx_y]"
   ]
  },
  {
   "cell_type": "markdown",
   "id": "28345541",
   "metadata": {},
   "source": [
    "# 'Brodcasting'"
   ]
  },
  {
   "cell_type": "code",
   "execution_count": 75,
   "id": "06def5c7",
   "metadata": {},
   "outputs": [
    {
     "data": {
      "text/plain": [
       "array([[['Lilia', 'Antonio', 'Ricardo'],\n",
       "        ['Alonso', 'Jorge', 'Salvador']],\n",
       "\n",
       "       [['Mariana', 'Julian', 'Ricardo'],\n",
       "        ['Arturo', 'Ramy', 'Esteban']],\n",
       "\n",
       "       [['Julio', 'Ernesto', 'Lucio'],\n",
       "        ['Jorge', 'Marco', 'Lilia']],\n",
       "\n",
       "       [['Alonso', 'Julian', 'Salvador'],\n",
       "        ['Ricardo', 'Jorge', 'Esmerald']],\n",
       "\n",
       "       [['Paulina', 'Rigo', 'Paul'],\n",
       "        ['Kenia', 'Miguel', 'Carlos']]], dtype='<U8')"
      ]
     },
     "execution_count": 75,
     "metadata": {},
     "output_type": "execute_result"
    }
   ],
   "source": [
    "equipos"
   ]
  },
  {
   "cell_type": "code",
   "execution_count": 76,
   "id": "205fca29",
   "metadata": {},
   "outputs": [
    {
     "data": {
      "text/plain": [
       "array([[['Lilia', 'Antonio', 'Ricardo'],\n",
       "        ['Alonso', 'Jorge', 'Salvador']],\n",
       "\n",
       "       [['Mariana', 'Julian', 'Ricardo'],\n",
       "        ['Arturo', 'Ramy', 'Esteban']],\n",
       "\n",
       "       [['Julio', 'Ernesto', 'Lucio'],\n",
       "        ['Jorge', 'Marco', 'Lilia']],\n",
       "\n",
       "       [['Alonso', 'Julian', 'Salvador'],\n",
       "        ['Ricardo', 'Jorge', 'Esmerald']],\n",
       "\n",
       "       [['Fabian', 'Fabian', 'Fabian'],\n",
       "        ['Kenia', 'Miguel', 'Carlos']]], dtype='<U8')"
      ]
     },
     "execution_count": 76,
     "metadata": {},
     "output_type": "execute_result"
    }
   ],
   "source": [
    "# Un mismo valor para todos los elementos\n",
    "equipos[4,0] = 'Fabian'\n",
    "equipos"
   ]
  },
  {
   "cell_type": "code",
   "execution_count": 81,
   "id": "d650a51f",
   "metadata": {},
   "outputs": [
    {
     "data": {
      "text/plain": [
       "array([[['Lilia', 'Antonio', 'Ricardo'],\n",
       "        ['Alonso', 'Jorge', 'Salvador']],\n",
       "\n",
       "       [['Mariana', 'Julian', 'Ricardo'],\n",
       "        ['Arturo', 'Ramy', 'Esteban']],\n",
       "\n",
       "       [['Hugo', 'Paco', 'Luis'],\n",
       "        ['Hugo', 'Paco', 'Luis']],\n",
       "\n",
       "       [['Alonso', 'Julian', 'Salvador'],\n",
       "        ['Ricardo', 'Jorge', 'Esmerald']],\n",
       "\n",
       "       [['Fabian', 'Fabian', 'Fabian'],\n",
       "        ['Kenia', 'Miguel', 'Carlos']]], dtype='<U8')"
      ]
     },
     "execution_count": 81,
     "metadata": {},
     "output_type": "execute_result"
    }
   ],
   "source": [
    "#Un mismo arreglo para todos los elementos de la dimension\n",
    "equipos[2] = np.array(['Hugo','Paco','Luis'])\n",
    "equipos[2].shape\n",
    "equipos"
   ]
  },
  {
   "cell_type": "code",
   "execution_count": null,
   "id": "1598e284",
   "metadata": {},
   "outputs": [],
   "source": []
  }
 ],
 "metadata": {
  "kernelspec": {
   "display_name": "Python 3 (ipykernel)",
   "language": "python",
   "name": "python3"
  },
  "language_info": {
   "codemirror_mode": {
    "name": "ipython",
    "version": 3
   },
   "file_extension": ".py",
   "mimetype": "text/x-python",
   "name": "python",
   "nbconvert_exporter": "python",
   "pygments_lexer": "ipython3",
   "version": "3.9.12"
  }
 },
 "nbformat": 4,
 "nbformat_minor": 5
}
